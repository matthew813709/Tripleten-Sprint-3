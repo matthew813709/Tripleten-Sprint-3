{
 "cells": [
  {
   "cell_type": "markdown",
   "metadata": {},
   "source": [
    "# Which one is a better plan?\n",
    "\n",
    "You work as an analyst for the telecom operator Megaline. The company offers its clients two prepaid plans, Surf and Ultimate. The commercial department wants to know which of the plans brings in more revenue in order to adjust the advertising budget.\n",
    "\n",
    "You are going to carry out a preliminary analysis of the plans based on a relatively small client selection. You'll have the data on 500 Megaline clients: who the clients are, where they're from, which plan they use, and the number of calls they made and text messages they sent in 2018. Your job is to analyze the clients' behavior and determine which prepaid plan brings in more revenue."
   ]
  },
  {
   "cell_type": "markdown",
   "metadata": {},
   "source": [
    "[We've provided you with some commentary to guide your thinking as you complete this project. However, make sure to remove all the bracketed comments before submitting your project.]\n",
    "\n",
    "[Before you dive into analyzing your data, explain for yourself the purpose of the project and actions you plan to take.]\n",
    "\n",
    "[Please bear in mind that studying, amending, and analyzing data is an iterative process. It is normal to return to previous steps and correct/expand them to allow for further steps.]"
   ]
  },
  {
   "cell_type": "markdown",
   "metadata": {},
   "source": [
    "## Initialization"
   ]
  },
  {
   "cell_type": "markdown",
   "metadata": {},
   "source": [
    "## Student comments: I got stuck somewhere towards the end. Any suggestions to help me complete this project would be appreciated. Thank you!\n"
   ]
  },
  {
   "cell_type": "code",
   "execution_count": 1,
   "metadata": {},
   "outputs": [],
   "source": [
    "# Loading all the libraries\n",
    "import pandas as pd\n",
    "import numpy as np\n",
    "\n",
    "import matplotlib.pyplot as plt\n",
    "import seaborn as sns\n",
    "\n",
    "from scipy import stats\n",
    "\n"
   ]
  },
  {
   "cell_type": "markdown",
   "metadata": {},
   "source": [
    "## Load data"
   ]
  },
  {
   "cell_type": "markdown",
   "metadata": {},
   "source": []
  },
  {
   "cell_type": "code",
   "execution_count": 2,
   "metadata": {},
   "outputs": [],
   "source": [
    "# Load the data files into different DataFrames\n",
    "calls = pd.read_csv('/datasets/megaline_calls.csv')\n",
    "internet = pd.read_csv('/datasets/megaline_internet.csv')\n",
    "messages = pd.read_csv('/datasets/megaline_messages.csv')\n",
    "plans = pd.read_csv('/datasets/megaline_plans.csv')\n",
    "users = pd.read_csv('/datasets/megaline_users.csv')\n"
   ]
  },
  {
   "cell_type": "markdown",
   "metadata": {},
   "source": [
    "## Prepare the data"
   ]
  },
  {
   "cell_type": "markdown",
   "metadata": {},
   "source": [
    "[The data for this project is split into several tables. Explore each one to get an initial understanding of the data. Do necessary corrections to each table if necessary.]"
   ]
  },
  {
   "cell_type": "markdown",
   "metadata": {},
   "source": [
    "## Plans"
   ]
  },
  {
   "cell_type": "code",
   "execution_count": 3,
   "metadata": {},
   "outputs": [
    {
     "name": "stdout",
     "output_type": "stream",
     "text": [
      "   messages_included  mb_per_month_included  minutes_included  \\\n",
      "0                 50                  15360               500   \n",
      "1               1000                  30720              3000   \n",
      "\n",
      "   usd_monthly_pay  usd_per_gb  usd_per_message  usd_per_minute plan_name  \n",
      "0               20          10             0.03            0.03      surf  \n",
      "1               70           7             0.01            0.01  ultimate  \n"
     ]
    }
   ],
   "source": [
    "# Print the general/summary information about the plans' DataFrame\n",
    "\n",
    "print(plans)"
   ]
  },
  {
   "cell_type": "code",
   "execution_count": 4,
   "metadata": {},
   "outputs": [
    {
     "name": "stdout",
     "output_type": "stream",
     "text": [
      "   messages_included  mb_per_month_included  minutes_included  \\\n",
      "0                 50                  15360               500   \n",
      "1               1000                  30720              3000   \n",
      "\n",
      "   usd_monthly_pay  usd_per_gb  usd_per_message  usd_per_minute plan_name  \n",
      "0               20          10             0.03            0.03      surf  \n",
      "1               70           7             0.01            0.01  ultimate  \n"
     ]
    }
   ],
   "source": [
    "# Print a sample of data for plans\n",
    "\n",
    "plans_head = plans.head()\n",
    "print(plans_head)"
   ]
  },
  {
   "cell_type": "markdown",
   "metadata": {},
   "source": [
    "[Describe what you see and notice in the general information and the printed data sample for the above price of data. Are there any issues (inappropriate data types, missing data etc) that may need further investigation and changes? How that can be fixed?]"
   ]
  },
  {
   "cell_type": "markdown",
   "metadata": {},
   "source": [
    " "
   ]
  },
  {
   "cell_type": "markdown",
   "metadata": {},
   "source": [
    "## Fix data"
   ]
  },
  {
   "cell_type": "markdown",
   "metadata": {},
   "source": [
    "[Fix obvious issues with the data given the initial observations.]"
   ]
  },
  {
   "cell_type": "code",
   "execution_count": 5,
   "metadata": {},
   "outputs": [
    {
     "data": {
      "text/plain": [
       "Index(['messages_included', 'mb_per_month_included', 'minutes_included',\n",
       "       'usd_monthly_pay', 'usd_per_gb', 'usd_per_message', 'usd_per_minute',\n",
       "       'plan_name'],\n",
       "      dtype='object')"
      ]
     },
     "execution_count": 5,
     "metadata": {},
     "output_type": "execute_result"
    }
   ],
   "source": [
    "plans.columns=plans.columns.str.lower()\n",
    "plans.columns=plans.columns.str.replace(' ','_')\n",
    "plans.columns"
   ]
  },
  {
   "cell_type": "markdown",
   "metadata": {},
   "source": [
    "## Enrich data"
   ]
  },
  {
   "cell_type": "markdown",
   "metadata": {},
   "source": [
    "[Add additional factors to the data if you believe they might be useful.]"
   ]
  },
  {
   "cell_type": "code",
   "execution_count": null,
   "metadata": {},
   "outputs": [],
   "source": []
  },
  {
   "cell_type": "markdown",
   "metadata": {},
   "source": [
    "## Users"
   ]
  },
  {
   "cell_type": "code",
   "execution_count": 6,
   "metadata": {},
   "outputs": [
    {
     "name": "stdout",
     "output_type": "stream",
     "text": [
      "     user_id first_name   last_name  age  \\\n",
      "0       1000   Anamaria       Bauer   45   \n",
      "1       1001     Mickey   Wilkerson   28   \n",
      "2       1002     Carlee     Hoffman   36   \n",
      "3       1003   Reynaldo     Jenkins   52   \n",
      "4       1004    Leonila    Thompson   40   \n",
      "..       ...        ...         ...  ...   \n",
      "495     1495      Fidel      Sharpe   67   \n",
      "496     1496      Ariel    Shepherd   49   \n",
      "497     1497      Donte     Barrera   49   \n",
      "498     1498       Scot  Williamson   51   \n",
      "499     1499      Shena     Dickson   37   \n",
      "\n",
      "                                          city    reg_date      plan  \\\n",
      "0        Atlanta-Sandy Springs-Roswell, GA MSA  2018-12-24  ultimate   \n",
      "1              Seattle-Tacoma-Bellevue, WA MSA  2018-08-13      surf   \n",
      "2         Las Vegas-Henderson-Paradise, NV MSA  2018-10-21      surf   \n",
      "3                                Tulsa, OK MSA  2018-01-28      surf   \n",
      "4              Seattle-Tacoma-Bellevue, WA MSA  2018-05-23      surf   \n",
      "..                                         ...         ...       ...   \n",
      "495  New York-Newark-Jersey City, NY-NJ-PA MSA  2018-09-04      surf   \n",
      "496               New Orleans-Metairie, LA MSA  2018-02-20      surf   \n",
      "497     Los Angeles-Long Beach-Anaheim, CA MSA  2018-12-10  ultimate   \n",
      "498  New York-Newark-Jersey City, NY-NJ-PA MSA  2018-02-04      surf   \n",
      "499          Orlando-Kissimmee-Sanford, FL MSA  2018-05-06      surf   \n",
      "\n",
      "    churn_date  \n",
      "0          NaN  \n",
      "1          NaN  \n",
      "2          NaN  \n",
      "3          NaN  \n",
      "4          NaN  \n",
      "..         ...  \n",
      "495        NaN  \n",
      "496        NaN  \n",
      "497        NaN  \n",
      "498        NaN  \n",
      "499        NaN  \n",
      "\n",
      "[500 rows x 8 columns]\n"
     ]
    }
   ],
   "source": [
    "# Print the general/summary information about the users' DataFrame\n",
    "print(users)\n"
   ]
  },
  {
   "cell_type": "code",
   "execution_count": 7,
   "metadata": {},
   "outputs": [
    {
     "name": "stdout",
     "output_type": "stream",
     "text": [
      "   user_id first_name  last_name  age                                   city  \\\n",
      "0     1000   Anamaria      Bauer   45  Atlanta-Sandy Springs-Roswell, GA MSA   \n",
      "1     1001     Mickey  Wilkerson   28        Seattle-Tacoma-Bellevue, WA MSA   \n",
      "2     1002     Carlee    Hoffman   36   Las Vegas-Henderson-Paradise, NV MSA   \n",
      "3     1003   Reynaldo    Jenkins   52                          Tulsa, OK MSA   \n",
      "4     1004    Leonila   Thompson   40        Seattle-Tacoma-Bellevue, WA MSA   \n",
      "\n",
      "     reg_date      plan churn_date  \n",
      "0  2018-12-24  ultimate        NaN  \n",
      "1  2018-08-13      surf        NaN  \n",
      "2  2018-10-21      surf        NaN  \n",
      "3  2018-01-28      surf        NaN  \n",
      "4  2018-05-23      surf        NaN  \n"
     ]
    }
   ],
   "source": [
    "# Print a sample of data for users\n",
    "users_head = users.head()\n",
    "print(users_head)\n"
   ]
  },
  {
   "cell_type": "markdown",
   "metadata": {},
   "source": [
    "[Describe what you see and notice in the general information and the printed data sample for the above price of data. Are there any issues (inappropriate data types, missing data etc) that may need further investigation and changes? How that can be fixed?]"
   ]
  },
  {
   "cell_type": "markdown",
   "metadata": {},
   "source": [
    " "
   ]
  },
  {
   "cell_type": "markdown",
   "metadata": {},
   "source": [
    "### Fix Data"
   ]
  },
  {
   "cell_type": "markdown",
   "metadata": {},
   "source": [
    "[Fix obvious issues with the data given the initial observations.]"
   ]
  },
  {
   "cell_type": "code",
   "execution_count": 8,
   "metadata": {},
   "outputs": [
    {
     "data": {
      "text/plain": [
       "Index(['user_id', 'first_name', 'last_name', 'age', 'city', 'reg_date', 'plan',\n",
       "       'churn_date'],\n",
       "      dtype='object')"
      ]
     },
     "execution_count": 8,
     "metadata": {},
     "output_type": "execute_result"
    }
   ],
   "source": [
    "users.columns=users.columns.str.lower()\n",
    "users.columns=users.columns.str.replace(' ','_')\n",
    "users.columns"
   ]
  },
  {
   "cell_type": "markdown",
   "metadata": {},
   "source": [
    "### Enrich Data"
   ]
  },
  {
   "cell_type": "markdown",
   "metadata": {},
   "source": [
    "[Add additional factors to the data if you believe they might be useful.]"
   ]
  },
  {
   "cell_type": "code",
   "execution_count": 9,
   "metadata": {},
   "outputs": [],
   "source": [
    "users[\"churn_date\"] = (users['churn_date'].isna().fillna(0).astype(int))\n"
   ]
  },
  {
   "cell_type": "code",
   "execution_count": 10,
   "metadata": {},
   "outputs": [
    {
     "data": {
      "text/html": [
       "<div>\n",
       "<style scoped>\n",
       "    .dataframe tbody tr th:only-of-type {\n",
       "        vertical-align: middle;\n",
       "    }\n",
       "\n",
       "    .dataframe tbody tr th {\n",
       "        vertical-align: top;\n",
       "    }\n",
       "\n",
       "    .dataframe thead th {\n",
       "        text-align: right;\n",
       "    }\n",
       "</style>\n",
       "<table border=\"1\" class=\"dataframe\">\n",
       "  <thead>\n",
       "    <tr style=\"text-align: right;\">\n",
       "      <th></th>\n",
       "      <th>user_id</th>\n",
       "      <th>first_name</th>\n",
       "      <th>last_name</th>\n",
       "      <th>age</th>\n",
       "      <th>city</th>\n",
       "      <th>reg_date</th>\n",
       "      <th>plan</th>\n",
       "      <th>churn_date</th>\n",
       "    </tr>\n",
       "  </thead>\n",
       "  <tbody>\n",
       "    <tr>\n",
       "      <th>0</th>\n",
       "      <td>1000</td>\n",
       "      <td>Anamaria</td>\n",
       "      <td>Bauer</td>\n",
       "      <td>45</td>\n",
       "      <td>Atlanta-Sandy Springs-Roswell, GA MSA</td>\n",
       "      <td>2018-12-24</td>\n",
       "      <td>ultimate</td>\n",
       "      <td>1</td>\n",
       "    </tr>\n",
       "    <tr>\n",
       "      <th>1</th>\n",
       "      <td>1001</td>\n",
       "      <td>Mickey</td>\n",
       "      <td>Wilkerson</td>\n",
       "      <td>28</td>\n",
       "      <td>Seattle-Tacoma-Bellevue, WA MSA</td>\n",
       "      <td>2018-08-13</td>\n",
       "      <td>surf</td>\n",
       "      <td>1</td>\n",
       "    </tr>\n",
       "    <tr>\n",
       "      <th>2</th>\n",
       "      <td>1002</td>\n",
       "      <td>Carlee</td>\n",
       "      <td>Hoffman</td>\n",
       "      <td>36</td>\n",
       "      <td>Las Vegas-Henderson-Paradise, NV MSA</td>\n",
       "      <td>2018-10-21</td>\n",
       "      <td>surf</td>\n",
       "      <td>1</td>\n",
       "    </tr>\n",
       "    <tr>\n",
       "      <th>3</th>\n",
       "      <td>1003</td>\n",
       "      <td>Reynaldo</td>\n",
       "      <td>Jenkins</td>\n",
       "      <td>52</td>\n",
       "      <td>Tulsa, OK MSA</td>\n",
       "      <td>2018-01-28</td>\n",
       "      <td>surf</td>\n",
       "      <td>1</td>\n",
       "    </tr>\n",
       "    <tr>\n",
       "      <th>4</th>\n",
       "      <td>1004</td>\n",
       "      <td>Leonila</td>\n",
       "      <td>Thompson</td>\n",
       "      <td>40</td>\n",
       "      <td>Seattle-Tacoma-Bellevue, WA MSA</td>\n",
       "      <td>2018-05-23</td>\n",
       "      <td>surf</td>\n",
       "      <td>1</td>\n",
       "    </tr>\n",
       "  </tbody>\n",
       "</table>\n",
       "</div>"
      ],
      "text/plain": [
       "   user_id first_name  last_name  age                                   city  \\\n",
       "0     1000   Anamaria      Bauer   45  Atlanta-Sandy Springs-Roswell, GA MSA   \n",
       "1     1001     Mickey  Wilkerson   28        Seattle-Tacoma-Bellevue, WA MSA   \n",
       "2     1002     Carlee    Hoffman   36   Las Vegas-Henderson-Paradise, NV MSA   \n",
       "3     1003   Reynaldo    Jenkins   52                          Tulsa, OK MSA   \n",
       "4     1004    Leonila   Thompson   40        Seattle-Tacoma-Bellevue, WA MSA   \n",
       "\n",
       "     reg_date      plan  churn_date  \n",
       "0  2018-12-24  ultimate           1  \n",
       "1  2018-08-13      surf           1  \n",
       "2  2018-10-21      surf           1  \n",
       "3  2018-01-28      surf           1  \n",
       "4  2018-05-23      surf           1  "
      ]
     },
     "execution_count": 10,
     "metadata": {},
     "output_type": "execute_result"
    }
   ],
   "source": [
    "users.head()"
   ]
  },
  {
   "cell_type": "code",
   "execution_count": 11,
   "metadata": {},
   "outputs": [
    {
     "data": {
      "text/plain": [
       "(500, 8)"
      ]
     },
     "execution_count": 11,
     "metadata": {},
     "output_type": "execute_result"
    }
   ],
   "source": [
    "users.shape"
   ]
  },
  {
   "cell_type": "code",
   "execution_count": null,
   "metadata": {},
   "outputs": [],
   "source": []
  },
  {
   "cell_type": "code",
   "execution_count": 12,
   "metadata": {},
   "outputs": [
    {
     "data": {
      "text/plain": [
       "call_date   user_id\n",
       "2018-01-15  1077       19.84\n",
       "            1196       10.91\n",
       "2018-01-16  1042       21.20\n",
       "            1077       35.64\n",
       "            1196       12.01\n",
       "Name: duration, dtype: float64"
      ]
     },
     "execution_count": 12,
     "metadata": {},
     "output_type": "execute_result"
    }
   ],
   "source": [
    "cleaned_calls = calls.groupby(['call_date', 'user_id'])['duration'].sum()\n",
    "cleaned_calls.head()"
   ]
  },
  {
   "cell_type": "code",
   "execution_count": 13,
   "metadata": {},
   "outputs": [
    {
     "data": {
      "text/plain": [
       "(51959,)"
      ]
     },
     "execution_count": 13,
     "metadata": {},
     "output_type": "execute_result"
    }
   ],
   "source": [
    "cleaned_calls.shape"
   ]
  },
  {
   "cell_type": "code",
   "execution_count": 14,
   "metadata": {},
   "outputs": [
    {
     "data": {
      "text/plain": [
       "call_date   user_id\n",
       "2018-01-15  1077       False\n",
       "            1196       False\n",
       "2018-01-16  1042       False\n",
       "            1077       False\n",
       "            1196       False\n",
       "                       ...  \n",
       "2018-12-31  1495        True\n",
       "            1496        True\n",
       "            1497        True\n",
       "            1498        True\n",
       "            1499        True\n",
       "Name: duration, Length: 51959, dtype: bool"
      ]
     },
     "execution_count": 14,
     "metadata": {},
     "output_type": "execute_result"
    }
   ],
   "source": [
    "cleaned_calls.duplicated().sum()"
   ]
  },
  {
   "cell_type": "markdown",
   "metadata": {},
   "source": [
    "## Calls"
   ]
  },
  {
   "cell_type": "code",
   "execution_count": 15,
   "metadata": {},
   "outputs": [
    {
     "data": {
      "text/html": [
       "<div>\n",
       "<style scoped>\n",
       "    .dataframe tbody tr th:only-of-type {\n",
       "        vertical-align: middle;\n",
       "    }\n",
       "\n",
       "    .dataframe tbody tr th {\n",
       "        vertical-align: top;\n",
       "    }\n",
       "\n",
       "    .dataframe thead th {\n",
       "        text-align: right;\n",
       "    }\n",
       "</style>\n",
       "<table border=\"1\" class=\"dataframe\">\n",
       "  <thead>\n",
       "    <tr style=\"text-align: right;\">\n",
       "      <th></th>\n",
       "      <th>id</th>\n",
       "      <th>user_id</th>\n",
       "      <th>call_date</th>\n",
       "      <th>duration</th>\n",
       "    </tr>\n",
       "  </thead>\n",
       "  <tbody>\n",
       "    <tr>\n",
       "      <th>0</th>\n",
       "      <td>1000_93</td>\n",
       "      <td>1000</td>\n",
       "      <td>2018-12-27</td>\n",
       "      <td>8.52</td>\n",
       "    </tr>\n",
       "    <tr>\n",
       "      <th>1</th>\n",
       "      <td>1000_145</td>\n",
       "      <td>1000</td>\n",
       "      <td>2018-12-27</td>\n",
       "      <td>13.66</td>\n",
       "    </tr>\n",
       "    <tr>\n",
       "      <th>2</th>\n",
       "      <td>1000_247</td>\n",
       "      <td>1000</td>\n",
       "      <td>2018-12-27</td>\n",
       "      <td>14.48</td>\n",
       "    </tr>\n",
       "    <tr>\n",
       "      <th>3</th>\n",
       "      <td>1000_309</td>\n",
       "      <td>1000</td>\n",
       "      <td>2018-12-28</td>\n",
       "      <td>5.76</td>\n",
       "    </tr>\n",
       "    <tr>\n",
       "      <th>4</th>\n",
       "      <td>1000_380</td>\n",
       "      <td>1000</td>\n",
       "      <td>2018-12-30</td>\n",
       "      <td>4.22</td>\n",
       "    </tr>\n",
       "  </tbody>\n",
       "</table>\n",
       "</div>"
      ],
      "text/plain": [
       "         id  user_id   call_date  duration\n",
       "0   1000_93     1000  2018-12-27      8.52\n",
       "1  1000_145     1000  2018-12-27     13.66\n",
       "2  1000_247     1000  2018-12-27     14.48\n",
       "3  1000_309     1000  2018-12-28      5.76\n",
       "4  1000_380     1000  2018-12-30      4.22"
      ]
     },
     "execution_count": 15,
     "metadata": {},
     "output_type": "execute_result"
    }
   ],
   "source": [
    "# Print the general/summary information about the calls' DataFrame\n",
    "calls.head()\n"
   ]
  },
  {
   "cell_type": "code",
   "execution_count": 16,
   "metadata": {},
   "outputs": [
    {
     "name": "stdout",
     "output_type": "stream",
     "text": [
      "         id  user_id   call_date  duration\n",
      "0   1000_93     1000  2018-12-27      8.52\n",
      "1  1000_145     1000  2018-12-27     13.66\n",
      "2  1000_247     1000  2018-12-27     14.48\n",
      "3  1000_309     1000  2018-12-28      5.76\n",
      "4  1000_380     1000  2018-12-30      4.22\n"
     ]
    }
   ],
   "source": [
    "# Print a sample of data for calls\n",
    "calls_head = calls.head()\n",
    "print(calls_head)\n"
   ]
  },
  {
   "cell_type": "markdown",
   "metadata": {},
   "source": [
    "[Describe what you see and notice in the general information and the printed data sample for the above price of data. Are there any issues (inappropriate data types, missing data etc) that may need further investigation and changes? How that can be fixed?]"
   ]
  },
  {
   "cell_type": "markdown",
   "metadata": {},
   "source": [
    " "
   ]
  },
  {
   "cell_type": "markdown",
   "metadata": {},
   "source": [
    "### Fix data"
   ]
  },
  {
   "cell_type": "markdown",
   "metadata": {},
   "source": [
    "[Fix obvious issues with the data given the initial observations.]"
   ]
  },
  {
   "cell_type": "code",
   "execution_count": 17,
   "metadata": {},
   "outputs": [],
   "source": [
    "calls.columns=calls.columns.str.lower()\n",
    "calls.columns=calls.columns.str.replace(' ','_')\n",
    "calls[\"duration\"]=np.ceil(calls[\"duration\"])"
   ]
  },
  {
   "cell_type": "markdown",
   "metadata": {},
   "source": [
    "### Enrich data"
   ]
  },
  {
   "cell_type": "markdown",
   "metadata": {},
   "source": [
    "[Add additional factors to the data if you believe they might be useful.]"
   ]
  },
  {
   "cell_type": "markdown",
   "metadata": {},
   "source": [
    "## Messages"
   ]
  },
  {
   "cell_type": "code",
   "execution_count": 18,
   "metadata": {},
   "outputs": [
    {
     "name": "stdout",
     "output_type": "stream",
     "text": [
      "             id  user_id message_date\n",
      "0      1000_125     1000   2018-12-27\n",
      "1      1000_160     1000   2018-12-31\n",
      "2      1000_223     1000   2018-12-31\n",
      "3      1000_251     1000   2018-12-27\n",
      "4      1000_255     1000   2018-12-26\n",
      "...         ...      ...          ...\n",
      "76046  1497_526     1497   2018-12-24\n",
      "76047  1497_536     1497   2018-12-24\n",
      "76048  1497_547     1497   2018-12-31\n",
      "76049  1497_558     1497   2018-12-24\n",
      "76050  1497_613     1497   2018-12-23\n",
      "\n",
      "[76051 rows x 3 columns]\n"
     ]
    }
   ],
   "source": [
    "# Print the general/summary information about the messages' DataFrame\n",
    "\n",
    "print(messages)"
   ]
  },
  {
   "cell_type": "code",
   "execution_count": 19,
   "metadata": {},
   "outputs": [
    {
     "name": "stdout",
     "output_type": "stream",
     "text": [
      "         id  user_id message_date\n",
      "0  1000_125     1000   2018-12-27\n",
      "1  1000_160     1000   2018-12-31\n",
      "2  1000_223     1000   2018-12-31\n",
      "3  1000_251     1000   2018-12-27\n",
      "4  1000_255     1000   2018-12-26\n"
     ]
    }
   ],
   "source": [
    "# Print a sample of data for messages\n",
    "messages_head = messages.head()\n",
    "print(messages_head)"
   ]
  },
  {
   "cell_type": "code",
   "execution_count": 20,
   "metadata": {},
   "outputs": [
    {
     "data": {
      "text/html": [
       "<div>\n",
       "<style scoped>\n",
       "    .dataframe tbody tr th:only-of-type {\n",
       "        vertical-align: middle;\n",
       "    }\n",
       "\n",
       "    .dataframe tbody tr th {\n",
       "        vertical-align: top;\n",
       "    }\n",
       "\n",
       "    .dataframe thead th {\n",
       "        text-align: right;\n",
       "    }\n",
       "</style>\n",
       "<table border=\"1\" class=\"dataframe\">\n",
       "  <thead>\n",
       "    <tr style=\"text-align: right;\">\n",
       "      <th></th>\n",
       "      <th>id</th>\n",
       "      <th>user_id</th>\n",
       "      <th>message_date</th>\n",
       "    </tr>\n",
       "  </thead>\n",
       "  <tbody>\n",
       "    <tr>\n",
       "      <th>0</th>\n",
       "      <td>1000_125</td>\n",
       "      <td>1000</td>\n",
       "      <td>2018-12-27</td>\n",
       "    </tr>\n",
       "    <tr>\n",
       "      <th>1</th>\n",
       "      <td>1000_160</td>\n",
       "      <td>1000</td>\n",
       "      <td>2018-12-31</td>\n",
       "    </tr>\n",
       "    <tr>\n",
       "      <th>2</th>\n",
       "      <td>1000_223</td>\n",
       "      <td>1000</td>\n",
       "      <td>2018-12-31</td>\n",
       "    </tr>\n",
       "    <tr>\n",
       "      <th>3</th>\n",
       "      <td>1000_251</td>\n",
       "      <td>1000</td>\n",
       "      <td>2018-12-27</td>\n",
       "    </tr>\n",
       "    <tr>\n",
       "      <th>4</th>\n",
       "      <td>1000_255</td>\n",
       "      <td>1000</td>\n",
       "      <td>2018-12-26</td>\n",
       "    </tr>\n",
       "  </tbody>\n",
       "</table>\n",
       "</div>"
      ],
      "text/plain": [
       "         id  user_id message_date\n",
       "0  1000_125     1000   2018-12-27\n",
       "1  1000_160     1000   2018-12-31\n",
       "2  1000_223     1000   2018-12-31\n",
       "3  1000_251     1000   2018-12-27\n",
       "4  1000_255     1000   2018-12-26"
      ]
     },
     "execution_count": 20,
     "metadata": {},
     "output_type": "execute_result"
    }
   ],
   "source": [
    "messages.head()"
   ]
  },
  {
   "cell_type": "code",
   "execution_count": null,
   "metadata": {},
   "outputs": [],
   "source": []
  },
  {
   "cell_type": "code",
   "execution_count": 21,
   "metadata": {},
   "outputs": [
    {
     "data": {
      "text/plain": [
       "(76051, 3)"
      ]
     },
     "execution_count": 21,
     "metadata": {},
     "output_type": "execute_result"
    }
   ],
   "source": [
    "messages.shape"
   ]
  },
  {
   "cell_type": "markdown",
   "metadata": {},
   "source": [
    "[Describe what you see and notice in the general information and the printed data sample for the above price of data. Are there any issues (inappropriate data types, missing data etc) that may need further investigation and changes? How that can be fixed?]"
   ]
  },
  {
   "cell_type": "markdown",
   "metadata": {},
   "source": [
    " "
   ]
  },
  {
   "cell_type": "markdown",
   "metadata": {},
   "source": [
    "### Fix data"
   ]
  },
  {
   "cell_type": "markdown",
   "metadata": {},
   "source": [
    "[Fix obvious issues with the data given the initial observations.]"
   ]
  },
  {
   "cell_type": "code",
   "execution_count": 22,
   "metadata": {},
   "outputs": [
    {
     "data": {
      "text/plain": [
       "Index(['id', 'user_id', 'message_date'], dtype='object')"
      ]
     },
     "execution_count": 22,
     "metadata": {},
     "output_type": "execute_result"
    }
   ],
   "source": [
    "messages.columns=messages.columns.str.lower()\n",
    "messages.columns=messages.columns.str.replace(' ','_')\n",
    "messages.columns"
   ]
  },
  {
   "cell_type": "markdown",
   "metadata": {},
   "source": [
    "### Enrich data"
   ]
  },
  {
   "cell_type": "markdown",
   "metadata": {},
   "source": [
    "[Add additional factors to the data if you believe they might be useful.]"
   ]
  },
  {
   "cell_type": "code",
   "execution_count": null,
   "metadata": {},
   "outputs": [],
   "source": []
  },
  {
   "cell_type": "markdown",
   "metadata": {},
   "source": [
    "## Internet"
   ]
  },
  {
   "cell_type": "code",
   "execution_count": 23,
   "metadata": {},
   "outputs": [
    {
     "name": "stdout",
     "output_type": "stream",
     "text": [
      "              id  user_id session_date  mb_used\n",
      "0        1000_13     1000   2018-12-29    89.86\n",
      "1       1000_204     1000   2018-12-31     0.00\n",
      "2       1000_379     1000   2018-12-28   660.40\n",
      "3       1000_413     1000   2018-12-26   270.99\n",
      "4       1000_442     1000   2018-12-27   880.22\n",
      "...          ...      ...          ...      ...\n",
      "104820  1499_215     1499   2018-10-20   218.06\n",
      "104821  1499_216     1499   2018-12-30   304.72\n",
      "104822  1499_217     1499   2018-09-22   292.75\n",
      "104823  1499_218     1499   2018-12-07     0.00\n",
      "104824  1499_219     1499   2018-12-24   758.31\n",
      "\n",
      "[104825 rows x 4 columns]\n"
     ]
    }
   ],
   "source": [
    "# Print the general/summary information about the internet DataFrame\n",
    "print(internet)\n"
   ]
  },
  {
   "cell_type": "code",
   "execution_count": 24,
   "metadata": {},
   "outputs": [
    {
     "name": "stdout",
     "output_type": "stream",
     "text": [
      "         id  user_id session_date  mb_used\n",
      "0   1000_13     1000   2018-12-29    89.86\n",
      "1  1000_204     1000   2018-12-31     0.00\n",
      "2  1000_379     1000   2018-12-28   660.40\n",
      "3  1000_413     1000   2018-12-26   270.99\n",
      "4  1000_442     1000   2018-12-27   880.22\n"
     ]
    }
   ],
   "source": [
    "# Print a sample of data for the internet traffic\n",
    "internet_head = internet.head()\n",
    "print(internet_head)\n"
   ]
  },
  {
   "cell_type": "markdown",
   "metadata": {},
   "source": [
    "[Describe what you see and notice in the general information and the printed data sample for the above price of data. Are there any issues (inappropriate data types, missing data etc) that may need further investigation and changes? How that can be fixed?]"
   ]
  },
  {
   "cell_type": "markdown",
   "metadata": {},
   "source": [
    " "
   ]
  },
  {
   "cell_type": "markdown",
   "metadata": {},
   "source": [
    "### Fix data"
   ]
  },
  {
   "cell_type": "markdown",
   "metadata": {},
   "source": [
    "[Fix obvious issues with the data given the initial observations.]"
   ]
  },
  {
   "cell_type": "code",
   "execution_count": 25,
   "metadata": {},
   "outputs": [
    {
     "data": {
      "text/plain": [
       "Index(['id', 'user_id', 'session_date', 'mb_used'], dtype='object')"
      ]
     },
     "execution_count": 25,
     "metadata": {},
     "output_type": "execute_result"
    }
   ],
   "source": [
    "internet.columns=internet.columns.str.lower()\n",
    "internet.columns=internet.columns.str.replace(' ','_')\n",
    "internet.columns"
   ]
  },
  {
   "cell_type": "code",
   "execution_count": 26,
   "metadata": {},
   "outputs": [
    {
     "data": {
      "text/plain": [
       "(104825, 4)"
      ]
     },
     "execution_count": 26,
     "metadata": {},
     "output_type": "execute_result"
    }
   ],
   "source": [
    "internet.shape"
   ]
  },
  {
   "cell_type": "code",
   "execution_count": 27,
   "metadata": {},
   "outputs": [
    {
     "data": {
      "text/plain": [
       "user_id\n",
       "1000      1901.47\n",
       "1001     80437.94\n",
       "1002     40293.33\n",
       "1003     27044.14\n",
       "1004    156352.81\n",
       "Name: mb_used, dtype: float64"
      ]
     },
     "execution_count": 27,
     "metadata": {},
     "output_type": "execute_result"
    }
   ],
   "source": [
    "cleaned_internet = internet.groupby(['user_id'])['mb_used'].sum()\n",
    "cleaned_internet.head()"
   ]
  },
  {
   "cell_type": "code",
   "execution_count": 28,
   "metadata": {},
   "outputs": [
    {
     "data": {
      "text/plain": [
       "(489,)"
      ]
     },
     "execution_count": 28,
     "metadata": {},
     "output_type": "execute_result"
    }
   ],
   "source": [
    "cleaned_internet.shape"
   ]
  },
  {
   "cell_type": "markdown",
   "metadata": {},
   "source": [
    "### Enrich data"
   ]
  },
  {
   "cell_type": "markdown",
   "metadata": {},
   "source": [
    "[Add additional factors to the data if you believe they might be useful.]"
   ]
  },
  {
   "cell_type": "markdown",
   "metadata": {},
   "source": [
    "## Study plan conditions"
   ]
  },
  {
   "cell_type": "markdown",
   "metadata": {},
   "source": [
    "[It is critical to understand how the plans work, how users are charged based on their plan subscription. So, we suggest printing out the plan information to view their conditions once again.]"
   ]
  },
  {
   "cell_type": "code",
   "execution_count": 29,
   "metadata": {},
   "outputs": [
    {
     "name": "stdout",
     "output_type": "stream",
     "text": [
      "   messages_included  mb_per_month_included  minutes_included  \\\n",
      "0                 50                  15360               500   \n",
      "1               1000                  30720              3000   \n",
      "\n",
      "   usd_monthly_pay  usd_per_gb  usd_per_message  usd_per_minute plan_name  \n",
      "0               20          10             0.03            0.03      surf  \n",
      "1               70           7             0.01            0.01  ultimate  \n"
     ]
    }
   ],
   "source": [
    "# Print out the plan conditions and make sure they are clear for you\n",
    "print(plans)\n"
   ]
  },
  {
   "cell_type": "markdown",
   "metadata": {},
   "source": [
    "## Aggregate data per user\n",
    "\n",
    "[Now, as the data is clean, aggregate data per user per period in order to have just one record per user per period. It should ease the further analysis a lot.]"
   ]
  },
  {
   "cell_type": "code",
   "execution_count": 30,
   "metadata": {},
   "outputs": [
    {
     "name": "stdout",
     "output_type": "stream",
     "text": [
      "0        2018-12-27\n",
      "1        2018-12-27\n",
      "2        2018-12-27\n",
      "3        2018-12-28\n",
      "4        2018-12-30\n",
      "            ...    \n",
      "137730   2018-11-21\n",
      "137731   2018-10-20\n",
      "137732   2018-09-21\n",
      "137733   2018-10-10\n",
      "137734   2018-12-29\n",
      "Name: call_date, Length: 137735, dtype: datetime64[ns]\n"
     ]
    }
   ],
   "source": [
    "# Calculate the number of calls made by each user per month. Save the result.\n",
    "calls_number = calls['call_date'] = pd.to_datetime(calls['call_date'])\n",
    "print(calls_number)"
   ]
  },
  {
   "cell_type": "code",
   "execution_count": 31,
   "metadata": {},
   "outputs": [
    {
     "name": "stdout",
     "output_type": "stream",
     "text": [
      "      month  user_id  duration\n",
      "0         1     1042     114.0\n",
      "1         1     1077     290.0\n",
      "2         1     1185     181.0\n",
      "3         1     1196     287.0\n",
      "4         1     1214      16.0\n",
      "...     ...      ...       ...\n",
      "2253     12     1495     492.0\n",
      "2254     12     1496     294.0\n",
      "2255     12     1497     300.0\n",
      "2256     12     1498     339.0\n",
      "2257     12     1499     496.0\n",
      "\n",
      "[2258 rows x 3 columns]\n"
     ]
    }
   ],
   "source": [
    "# Calculate the amount of minutes spent by each user per month. Save the result.\n",
    "calls['month'] = calls['call_date'].dt.month\n",
    "calls_group = calls.groupby(['month', 'user_id']).sum().reset_index()\n",
    "print(calls_group)\n"
   ]
  },
  {
   "cell_type": "code",
   "execution_count": 32,
   "metadata": {},
   "outputs": [
    {
     "name": "stdout",
     "output_type": "stream",
     "text": [
      "      user_id  month  messages\n",
      "0        1000     12        11\n",
      "1        1001      8        30\n",
      "2        1001      9        44\n",
      "3        1001     10        53\n",
      "4        1001     11        36\n",
      "...       ...    ...       ...\n",
      "1801     1496      9        21\n",
      "1802     1496     10        18\n",
      "1803     1496     11        13\n",
      "1804     1496     12        11\n",
      "1805     1497     12        50\n",
      "\n",
      "[1806 rows x 3 columns]\n"
     ]
    }
   ],
   "source": [
    "# Ensure message_date is in the correct datetime format\n",
    "messages['message_date'] = pd.to_datetime(messages['message_date'])\n",
    "\n",
    "# Create a new column for the month extracted from message_date\n",
    "messages['month'] = messages['message_date'].dt.month\n",
    "\n",
    "# Properly group by 'user_id' and 'month', then sum and reset index\n",
    "# It looks like you want to sum some numerical column. If you're trying to count messages, you might use `.count()` instead\n",
    "messages_group = messages.groupby(['user_id', 'month'])['id'].count().reset_index()\n",
    "messages_group.columns = ['user_id', 'month', 'messages']\n",
    "\n",
    "# Now let's print the grouped DataFrame\n",
    "print(messages_group)"
   ]
  },
  {
   "cell_type": "code",
   "execution_count": 33,
   "metadata": {},
   "outputs": [
    {
     "name": "stdout",
     "output_type": "stream",
     "text": [
      "      month  user_id   mb_used  gb_used\n",
      "0         1     1042   1854.93      2.0\n",
      "1         1     1077  10635.64     11.0\n",
      "2         1     1185   6812.77      7.0\n",
      "3         1     1196   8908.61      9.0\n",
      "4         1     1214   1315.35      2.0\n",
      "...     ...      ...       ...      ...\n",
      "2272     12     1495  24097.40     24.0\n",
      "2273     12     1496  16438.99     17.0\n",
      "2274     12     1497  11106.55     11.0\n",
      "2275     12     1498  23137.69     23.0\n",
      "2276     12     1499  22059.21     22.0\n",
      "\n",
      "[2277 rows x 4 columns]\n"
     ]
    }
   ],
   "source": [
    "# Calculate the volume of internet traffic used by each user per month. Save the result.\n",
    "internet['session_date'] = pd.to_datetime(internet['session_date'])\n",
    "\n",
    "# Create a month-year column for grouping\n",
    "internet['month'] = internet['session_date'].dt.month\n",
    "\n",
    "# Group by new month_year and user_id, then sum mb_used and reset index\n",
    "internet_traffic = internet.groupby(['month', 'user_id'])['mb_used'].sum().reset_index()\n",
    "internet_traffic[\"gb_used\"]=np.ceil(internet_traffic[\"mb_used\"]/1024)\n",
    "\n",
    "print(internet_traffic)"
   ]
  },
  {
   "cell_type": "markdown",
   "metadata": {},
   "source": [
    "[Put the aggregate data together into one DataFrame so that one record in it would represent what an unique user consumed in a given month.]"
   ]
  },
  {
   "cell_type": "code",
   "execution_count": null,
   "metadata": {},
   "outputs": [],
   "source": []
  },
  {
   "cell_type": "code",
   "execution_count": null,
   "metadata": {},
   "outputs": [],
   "source": []
  },
  {
   "cell_type": "code",
   "execution_count": null,
   "metadata": {},
   "outputs": [],
   "source": [
    "\n"
   ]
  },
  {
   "cell_type": "code",
   "execution_count": 34,
   "metadata": {},
   "outputs": [],
   "source": [
    "# First, merge the first two DataFrames\n",
    "merged_data = pd.merge(calls_group, messages_group, on=['user_id', 'month'], how='left')\n",
    "\n"
   ]
  },
  {
   "cell_type": "code",
   "execution_count": 35,
   "metadata": {},
   "outputs": [
    {
     "data": {
      "text/html": [
       "<div>\n",
       "<style scoped>\n",
       "    .dataframe tbody tr th:only-of-type {\n",
       "        vertical-align: middle;\n",
       "    }\n",
       "\n",
       "    .dataframe tbody tr th {\n",
       "        vertical-align: top;\n",
       "    }\n",
       "\n",
       "    .dataframe thead th {\n",
       "        text-align: right;\n",
       "    }\n",
       "</style>\n",
       "<table border=\"1\" class=\"dataframe\">\n",
       "  <thead>\n",
       "    <tr style=\"text-align: right;\">\n",
       "      <th></th>\n",
       "      <th>month</th>\n",
       "      <th>user_id</th>\n",
       "      <th>duration</th>\n",
       "      <th>messages</th>\n",
       "    </tr>\n",
       "  </thead>\n",
       "  <tbody>\n",
       "    <tr>\n",
       "      <th>0</th>\n",
       "      <td>1</td>\n",
       "      <td>1042</td>\n",
       "      <td>114.0</td>\n",
       "      <td>NaN</td>\n",
       "    </tr>\n",
       "    <tr>\n",
       "      <th>1</th>\n",
       "      <td>1</td>\n",
       "      <td>1077</td>\n",
       "      <td>290.0</td>\n",
       "      <td>37.0</td>\n",
       "    </tr>\n",
       "    <tr>\n",
       "      <th>2</th>\n",
       "      <td>1</td>\n",
       "      <td>1185</td>\n",
       "      <td>181.0</td>\n",
       "      <td>NaN</td>\n",
       "    </tr>\n",
       "    <tr>\n",
       "      <th>3</th>\n",
       "      <td>1</td>\n",
       "      <td>1196</td>\n",
       "      <td>287.0</td>\n",
       "      <td>23.0</td>\n",
       "    </tr>\n",
       "    <tr>\n",
       "      <th>4</th>\n",
       "      <td>1</td>\n",
       "      <td>1214</td>\n",
       "      <td>16.0</td>\n",
       "      <td>2.0</td>\n",
       "    </tr>\n",
       "  </tbody>\n",
       "</table>\n",
       "</div>"
      ],
      "text/plain": [
       "   month  user_id  duration  messages\n",
       "0      1     1042     114.0       NaN\n",
       "1      1     1077     290.0      37.0\n",
       "2      1     1185     181.0       NaN\n",
       "3      1     1196     287.0      23.0\n",
       "4      1     1214      16.0       2.0"
      ]
     },
     "execution_count": 35,
     "metadata": {},
     "output_type": "execute_result"
    }
   ],
   "source": [
    "merged_data.head()"
   ]
  },
  {
   "cell_type": "code",
   "execution_count": null,
   "metadata": {},
   "outputs": [],
   "source": []
  },
  {
   "cell_type": "code",
   "execution_count": 36,
   "metadata": {},
   "outputs": [
    {
     "data": {
      "text/plain": [
       "(2258, 4)"
      ]
     },
     "execution_count": 36,
     "metadata": {},
     "output_type": "execute_result"
    }
   ],
   "source": [
    "merged_data.shape"
   ]
  },
  {
   "cell_type": "code",
   "execution_count": 37,
   "metadata": {},
   "outputs": [],
   "source": [
    "second_merged_data = pd.merge(merged_data, internet_traffic, on=['user_id', 'month'], how='left')"
   ]
  },
  {
   "cell_type": "code",
   "execution_count": 38,
   "metadata": {},
   "outputs": [
    {
     "data": {
      "text/html": [
       "<div>\n",
       "<style scoped>\n",
       "    .dataframe tbody tr th:only-of-type {\n",
       "        vertical-align: middle;\n",
       "    }\n",
       "\n",
       "    .dataframe tbody tr th {\n",
       "        vertical-align: top;\n",
       "    }\n",
       "\n",
       "    .dataframe thead th {\n",
       "        text-align: right;\n",
       "    }\n",
       "</style>\n",
       "<table border=\"1\" class=\"dataframe\">\n",
       "  <thead>\n",
       "    <tr style=\"text-align: right;\">\n",
       "      <th></th>\n",
       "      <th>month</th>\n",
       "      <th>user_id</th>\n",
       "      <th>duration</th>\n",
       "      <th>messages</th>\n",
       "      <th>mb_used</th>\n",
       "      <th>gb_used</th>\n",
       "    </tr>\n",
       "  </thead>\n",
       "  <tbody>\n",
       "    <tr>\n",
       "      <th>0</th>\n",
       "      <td>1</td>\n",
       "      <td>1042</td>\n",
       "      <td>114.0</td>\n",
       "      <td>NaN</td>\n",
       "      <td>1854.93</td>\n",
       "      <td>2.0</td>\n",
       "    </tr>\n",
       "    <tr>\n",
       "      <th>1</th>\n",
       "      <td>1</td>\n",
       "      <td>1077</td>\n",
       "      <td>290.0</td>\n",
       "      <td>37.0</td>\n",
       "      <td>10635.64</td>\n",
       "      <td>11.0</td>\n",
       "    </tr>\n",
       "    <tr>\n",
       "      <th>2</th>\n",
       "      <td>1</td>\n",
       "      <td>1185</td>\n",
       "      <td>181.0</td>\n",
       "      <td>NaN</td>\n",
       "      <td>6812.77</td>\n",
       "      <td>7.0</td>\n",
       "    </tr>\n",
       "    <tr>\n",
       "      <th>3</th>\n",
       "      <td>1</td>\n",
       "      <td>1196</td>\n",
       "      <td>287.0</td>\n",
       "      <td>23.0</td>\n",
       "      <td>8908.61</td>\n",
       "      <td>9.0</td>\n",
       "    </tr>\n",
       "    <tr>\n",
       "      <th>4</th>\n",
       "      <td>1</td>\n",
       "      <td>1214</td>\n",
       "      <td>16.0</td>\n",
       "      <td>2.0</td>\n",
       "      <td>1315.35</td>\n",
       "      <td>2.0</td>\n",
       "    </tr>\n",
       "  </tbody>\n",
       "</table>\n",
       "</div>"
      ],
      "text/plain": [
       "   month  user_id  duration  messages   mb_used  gb_used\n",
       "0      1     1042     114.0       NaN   1854.93      2.0\n",
       "1      1     1077     290.0      37.0  10635.64     11.0\n",
       "2      1     1185     181.0       NaN   6812.77      7.0\n",
       "3      1     1196     287.0      23.0   8908.61      9.0\n",
       "4      1     1214      16.0       2.0   1315.35      2.0"
      ]
     },
     "execution_count": 38,
     "metadata": {},
     "output_type": "execute_result"
    }
   ],
   "source": [
    "second_merged_data.head()"
   ]
  },
  {
   "cell_type": "code",
   "execution_count": 39,
   "metadata": {},
   "outputs": [],
   "source": [
    "third_merged_data = pd.merge(second_merged_data, messages_group, on=['user_id', 'month'], how='left')"
   ]
  },
  {
   "cell_type": "code",
   "execution_count": 40,
   "metadata": {},
   "outputs": [
    {
     "data": {
      "text/html": [
       "<div>\n",
       "<style scoped>\n",
       "    .dataframe tbody tr th:only-of-type {\n",
       "        vertical-align: middle;\n",
       "    }\n",
       "\n",
       "    .dataframe tbody tr th {\n",
       "        vertical-align: top;\n",
       "    }\n",
       "\n",
       "    .dataframe thead th {\n",
       "        text-align: right;\n",
       "    }\n",
       "</style>\n",
       "<table border=\"1\" class=\"dataframe\">\n",
       "  <thead>\n",
       "    <tr style=\"text-align: right;\">\n",
       "      <th></th>\n",
       "      <th>month</th>\n",
       "      <th>user_id</th>\n",
       "      <th>duration</th>\n",
       "      <th>messages_x</th>\n",
       "      <th>mb_used</th>\n",
       "      <th>gb_used</th>\n",
       "      <th>messages_y</th>\n",
       "    </tr>\n",
       "  </thead>\n",
       "  <tbody>\n",
       "    <tr>\n",
       "      <th>0</th>\n",
       "      <td>1</td>\n",
       "      <td>1042</td>\n",
       "      <td>114.0</td>\n",
       "      <td>NaN</td>\n",
       "      <td>1854.93</td>\n",
       "      <td>2.0</td>\n",
       "      <td>NaN</td>\n",
       "    </tr>\n",
       "    <tr>\n",
       "      <th>1</th>\n",
       "      <td>1</td>\n",
       "      <td>1077</td>\n",
       "      <td>290.0</td>\n",
       "      <td>37.0</td>\n",
       "      <td>10635.64</td>\n",
       "      <td>11.0</td>\n",
       "      <td>37.0</td>\n",
       "    </tr>\n",
       "    <tr>\n",
       "      <th>2</th>\n",
       "      <td>1</td>\n",
       "      <td>1185</td>\n",
       "      <td>181.0</td>\n",
       "      <td>NaN</td>\n",
       "      <td>6812.77</td>\n",
       "      <td>7.0</td>\n",
       "      <td>NaN</td>\n",
       "    </tr>\n",
       "    <tr>\n",
       "      <th>3</th>\n",
       "      <td>1</td>\n",
       "      <td>1196</td>\n",
       "      <td>287.0</td>\n",
       "      <td>23.0</td>\n",
       "      <td>8908.61</td>\n",
       "      <td>9.0</td>\n",
       "      <td>23.0</td>\n",
       "    </tr>\n",
       "    <tr>\n",
       "      <th>4</th>\n",
       "      <td>1</td>\n",
       "      <td>1214</td>\n",
       "      <td>16.0</td>\n",
       "      <td>2.0</td>\n",
       "      <td>1315.35</td>\n",
       "      <td>2.0</td>\n",
       "      <td>2.0</td>\n",
       "    </tr>\n",
       "  </tbody>\n",
       "</table>\n",
       "</div>"
      ],
      "text/plain": [
       "   month  user_id  duration  messages_x   mb_used  gb_used  messages_y\n",
       "0      1     1042     114.0         NaN   1854.93      2.0         NaN\n",
       "1      1     1077     290.0        37.0  10635.64     11.0        37.0\n",
       "2      1     1185     181.0         NaN   6812.77      7.0         NaN\n",
       "3      1     1196     287.0        23.0   8908.61      9.0        23.0\n",
       "4      1     1214      16.0         2.0   1315.35      2.0         2.0"
      ]
     },
     "execution_count": 40,
     "metadata": {},
     "output_type": "execute_result"
    }
   ],
   "source": [
    "third_merged_data.head()"
   ]
  },
  {
   "cell_type": "code",
   "execution_count": null,
   "metadata": {},
   "outputs": [],
   "source": []
  },
  {
   "cell_type": "code",
   "execution_count": 41,
   "metadata": {},
   "outputs": [],
   "source": [
    "# Next, merge the result with the users DataFrame\n",
    "final_merged_data = pd.merge(second_merged_data, users, on='user_id', how='left')"
   ]
  },
  {
   "cell_type": "code",
   "execution_count": 42,
   "metadata": {},
   "outputs": [
    {
     "data": {
      "text/html": [
       "<div>\n",
       "<style scoped>\n",
       "    .dataframe tbody tr th:only-of-type {\n",
       "        vertical-align: middle;\n",
       "    }\n",
       "\n",
       "    .dataframe tbody tr th {\n",
       "        vertical-align: top;\n",
       "    }\n",
       "\n",
       "    .dataframe thead th {\n",
       "        text-align: right;\n",
       "    }\n",
       "</style>\n",
       "<table border=\"1\" class=\"dataframe\">\n",
       "  <thead>\n",
       "    <tr style=\"text-align: right;\">\n",
       "      <th></th>\n",
       "      <th>month</th>\n",
       "      <th>user_id</th>\n",
       "      <th>duration</th>\n",
       "      <th>messages</th>\n",
       "      <th>mb_used</th>\n",
       "      <th>gb_used</th>\n",
       "      <th>first_name</th>\n",
       "      <th>last_name</th>\n",
       "      <th>age</th>\n",
       "      <th>city</th>\n",
       "      <th>reg_date</th>\n",
       "      <th>plan</th>\n",
       "      <th>churn_date</th>\n",
       "    </tr>\n",
       "  </thead>\n",
       "  <tbody>\n",
       "    <tr>\n",
       "      <th>0</th>\n",
       "      <td>1</td>\n",
       "      <td>1042</td>\n",
       "      <td>114.0</td>\n",
       "      <td>NaN</td>\n",
       "      <td>1854.93</td>\n",
       "      <td>2.0</td>\n",
       "      <td>Clementina</td>\n",
       "      <td>Mclaughlin</td>\n",
       "      <td>40</td>\n",
       "      <td>Philadelphia-Camden-Wilmington, PA-NJ-DE-MD MSA</td>\n",
       "      <td>2018-01-15</td>\n",
       "      <td>surf</td>\n",
       "      <td>1</td>\n",
       "    </tr>\n",
       "    <tr>\n",
       "      <th>1</th>\n",
       "      <td>1</td>\n",
       "      <td>1077</td>\n",
       "      <td>290.0</td>\n",
       "      <td>37.0</td>\n",
       "      <td>10635.64</td>\n",
       "      <td>11.0</td>\n",
       "      <td>Chau</td>\n",
       "      <td>Webster</td>\n",
       "      <td>23</td>\n",
       "      <td>Charlotte-Concord-Gastonia, NC-SC MSA</td>\n",
       "      <td>2018-01-14</td>\n",
       "      <td>ultimate</td>\n",
       "      <td>1</td>\n",
       "    </tr>\n",
       "    <tr>\n",
       "      <th>2</th>\n",
       "      <td>1</td>\n",
       "      <td>1185</td>\n",
       "      <td>181.0</td>\n",
       "      <td>NaN</td>\n",
       "      <td>6812.77</td>\n",
       "      <td>7.0</td>\n",
       "      <td>Loria</td>\n",
       "      <td>Freeman</td>\n",
       "      <td>47</td>\n",
       "      <td>Louisville/Jefferson County, KY-IN MSA</td>\n",
       "      <td>2018-01-14</td>\n",
       "      <td>ultimate</td>\n",
       "      <td>1</td>\n",
       "    </tr>\n",
       "    <tr>\n",
       "      <th>3</th>\n",
       "      <td>1</td>\n",
       "      <td>1196</td>\n",
       "      <td>287.0</td>\n",
       "      <td>23.0</td>\n",
       "      <td>8908.61</td>\n",
       "      <td>9.0</td>\n",
       "      <td>Noel</td>\n",
       "      <td>Dawson</td>\n",
       "      <td>46</td>\n",
       "      <td>Los Angeles-Long Beach-Anaheim, CA MSA</td>\n",
       "      <td>2018-01-14</td>\n",
       "      <td>ultimate</td>\n",
       "      <td>1</td>\n",
       "    </tr>\n",
       "    <tr>\n",
       "      <th>4</th>\n",
       "      <td>1</td>\n",
       "      <td>1214</td>\n",
       "      <td>16.0</td>\n",
       "      <td>2.0</td>\n",
       "      <td>1315.35</td>\n",
       "      <td>2.0</td>\n",
       "      <td>Emil</td>\n",
       "      <td>Robles</td>\n",
       "      <td>34</td>\n",
       "      <td>San Francisco-Oakland-Berkeley, CA MSA</td>\n",
       "      <td>2018-01-01</td>\n",
       "      <td>ultimate</td>\n",
       "      <td>1</td>\n",
       "    </tr>\n",
       "  </tbody>\n",
       "</table>\n",
       "</div>"
      ],
      "text/plain": [
       "   month  user_id  duration  messages   mb_used  gb_used  first_name  \\\n",
       "0      1     1042     114.0       NaN   1854.93      2.0  Clementina   \n",
       "1      1     1077     290.0      37.0  10635.64     11.0        Chau   \n",
       "2      1     1185     181.0       NaN   6812.77      7.0       Loria   \n",
       "3      1     1196     287.0      23.0   8908.61      9.0        Noel   \n",
       "4      1     1214      16.0       2.0   1315.35      2.0        Emil   \n",
       "\n",
       "    last_name  age                                             city  \\\n",
       "0  Mclaughlin   40  Philadelphia-Camden-Wilmington, PA-NJ-DE-MD MSA   \n",
       "1     Webster   23            Charlotte-Concord-Gastonia, NC-SC MSA   \n",
       "2     Freeman   47           Louisville/Jefferson County, KY-IN MSA   \n",
       "3      Dawson   46           Los Angeles-Long Beach-Anaheim, CA MSA   \n",
       "4      Robles   34           San Francisco-Oakland-Berkeley, CA MSA   \n",
       "\n",
       "     reg_date      plan  churn_date  \n",
       "0  2018-01-15      surf           1  \n",
       "1  2018-01-14  ultimate           1  \n",
       "2  2018-01-14  ultimate           1  \n",
       "3  2018-01-14  ultimate           1  \n",
       "4  2018-01-01  ultimate           1  "
      ]
     },
     "execution_count": 42,
     "metadata": {},
     "output_type": "execute_result"
    }
   ],
   "source": [
    "final_merged_data.head()"
   ]
  },
  {
   "cell_type": "code",
   "execution_count": null,
   "metadata": {},
   "outputs": [],
   "source": []
  },
  {
   "cell_type": "code",
   "execution_count": null,
   "metadata": {},
   "outputs": [],
   "source": []
  },
  {
   "cell_type": "code",
   "execution_count": null,
   "metadata": {},
   "outputs": [],
   "source": []
  },
  {
   "cell_type": "code",
   "execution_count": null,
   "metadata": {},
   "outputs": [],
   "source": []
  },
  {
   "cell_type": "code",
   "execution_count": 43,
   "metadata": {},
   "outputs": [],
   "source": [
    "def additional_charges(row):\n",
    "    # Initialize charges\n",
    "    call_charge, message_charge, internet_charge = 0, 0, 0\n",
    "\n",
    "\n",
    "    # Correct calculations assuming ‘duration’, ‘messages’, and ‘mb_used’ are column names in `row`\n",
    "    call_charge += max(0, (row['duration'] - plans_data[row['plan']]['minutes_included']) * plans_data[row['plan']]['usd_per_minute'])\n",
    "    message_charge += max(0, (row['messages'] - plans_data[row['plan']]['messages_included']) * plans_data[row['plan']]['usd_per_message'])\n",
    "    internet_charge += max(0, (row['mb_used'] - plans_data[row['plan']]['mb_per_month_included']) * plans_data[row['plan']]['usd_per_gb']/1024)\n",
    "\n",
    "    total_monthly_charge = call_charge + message_charge + internet_charge + plans_data[row['plan']]['us_monthly_pay']\n",
    "    return total_monthly_charge\n",
    "\n",
    "# Correctly initialized dictionary\n",
    "plans_data = {\n",
    "    \"surf\": {'minutes_included': 500, 'messages_included': 50, 'mb_per_month_included': 15360, 'usd_per_minute': 0.03, 'usd_per_message': 0.03, 'usd_per_gb': 10, 'us_monthly_pay': 20},\n",
    "    \"ultimate\": {'minutes_included': 3000, 'messages_included': 1000, 'mb_per_month_included': 30720, 'usd_per_minute': 0.01, 'usd_per_gb': 7, 'usd_per_message': 0.01, 'us_monthly_pay': 70}\n",
    "}\n",
    "\n",
    "# Apply function with correct syntax\n",
    "final_merged_data[\"total_monthly_charge\"] = final_merged_data.apply(additional_charges, axis=1)\n"
   ]
  },
  {
   "cell_type": "code",
   "execution_count": 44,
   "metadata": {},
   "outputs": [
    {
     "data": {
      "text/html": [
       "<div>\n",
       "<style scoped>\n",
       "    .dataframe tbody tr th:only-of-type {\n",
       "        vertical-align: middle;\n",
       "    }\n",
       "\n",
       "    .dataframe tbody tr th {\n",
       "        vertical-align: top;\n",
       "    }\n",
       "\n",
       "    .dataframe thead th {\n",
       "        text-align: right;\n",
       "    }\n",
       "</style>\n",
       "<table border=\"1\" class=\"dataframe\">\n",
       "  <thead>\n",
       "    <tr style=\"text-align: right;\">\n",
       "      <th></th>\n",
       "      <th>month</th>\n",
       "      <th>user_id</th>\n",
       "      <th>duration</th>\n",
       "      <th>messages</th>\n",
       "      <th>mb_used</th>\n",
       "      <th>gb_used</th>\n",
       "      <th>first_name</th>\n",
       "      <th>last_name</th>\n",
       "      <th>age</th>\n",
       "      <th>city</th>\n",
       "      <th>reg_date</th>\n",
       "      <th>plan</th>\n",
       "      <th>churn_date</th>\n",
       "      <th>total_monthly_charge</th>\n",
       "    </tr>\n",
       "  </thead>\n",
       "  <tbody>\n",
       "    <tr>\n",
       "      <th>0</th>\n",
       "      <td>1</td>\n",
       "      <td>1042</td>\n",
       "      <td>114.0</td>\n",
       "      <td>NaN</td>\n",
       "      <td>1854.93</td>\n",
       "      <td>2.0</td>\n",
       "      <td>Clementina</td>\n",
       "      <td>Mclaughlin</td>\n",
       "      <td>40</td>\n",
       "      <td>Philadelphia-Camden-Wilmington, PA-NJ-DE-MD MSA</td>\n",
       "      <td>2018-01-15</td>\n",
       "      <td>surf</td>\n",
       "      <td>1</td>\n",
       "      <td>20.0</td>\n",
       "    </tr>\n",
       "    <tr>\n",
       "      <th>1</th>\n",
       "      <td>1</td>\n",
       "      <td>1077</td>\n",
       "      <td>290.0</td>\n",
       "      <td>37.0</td>\n",
       "      <td>10635.64</td>\n",
       "      <td>11.0</td>\n",
       "      <td>Chau</td>\n",
       "      <td>Webster</td>\n",
       "      <td>23</td>\n",
       "      <td>Charlotte-Concord-Gastonia, NC-SC MSA</td>\n",
       "      <td>2018-01-14</td>\n",
       "      <td>ultimate</td>\n",
       "      <td>1</td>\n",
       "      <td>70.0</td>\n",
       "    </tr>\n",
       "    <tr>\n",
       "      <th>2</th>\n",
       "      <td>1</td>\n",
       "      <td>1185</td>\n",
       "      <td>181.0</td>\n",
       "      <td>NaN</td>\n",
       "      <td>6812.77</td>\n",
       "      <td>7.0</td>\n",
       "      <td>Loria</td>\n",
       "      <td>Freeman</td>\n",
       "      <td>47</td>\n",
       "      <td>Louisville/Jefferson County, KY-IN MSA</td>\n",
       "      <td>2018-01-14</td>\n",
       "      <td>ultimate</td>\n",
       "      <td>1</td>\n",
       "      <td>70.0</td>\n",
       "    </tr>\n",
       "    <tr>\n",
       "      <th>3</th>\n",
       "      <td>1</td>\n",
       "      <td>1196</td>\n",
       "      <td>287.0</td>\n",
       "      <td>23.0</td>\n",
       "      <td>8908.61</td>\n",
       "      <td>9.0</td>\n",
       "      <td>Noel</td>\n",
       "      <td>Dawson</td>\n",
       "      <td>46</td>\n",
       "      <td>Los Angeles-Long Beach-Anaheim, CA MSA</td>\n",
       "      <td>2018-01-14</td>\n",
       "      <td>ultimate</td>\n",
       "      <td>1</td>\n",
       "      <td>70.0</td>\n",
       "    </tr>\n",
       "    <tr>\n",
       "      <th>4</th>\n",
       "      <td>1</td>\n",
       "      <td>1214</td>\n",
       "      <td>16.0</td>\n",
       "      <td>2.0</td>\n",
       "      <td>1315.35</td>\n",
       "      <td>2.0</td>\n",
       "      <td>Emil</td>\n",
       "      <td>Robles</td>\n",
       "      <td>34</td>\n",
       "      <td>San Francisco-Oakland-Berkeley, CA MSA</td>\n",
       "      <td>2018-01-01</td>\n",
       "      <td>ultimate</td>\n",
       "      <td>1</td>\n",
       "      <td>70.0</td>\n",
       "    </tr>\n",
       "  </tbody>\n",
       "</table>\n",
       "</div>"
      ],
      "text/plain": [
       "   month  user_id  duration  messages   mb_used  gb_used  first_name  \\\n",
       "0      1     1042     114.0       NaN   1854.93      2.0  Clementina   \n",
       "1      1     1077     290.0      37.0  10635.64     11.0        Chau   \n",
       "2      1     1185     181.0       NaN   6812.77      7.0       Loria   \n",
       "3      1     1196     287.0      23.0   8908.61      9.0        Noel   \n",
       "4      1     1214      16.0       2.0   1315.35      2.0        Emil   \n",
       "\n",
       "    last_name  age                                             city  \\\n",
       "0  Mclaughlin   40  Philadelphia-Camden-Wilmington, PA-NJ-DE-MD MSA   \n",
       "1     Webster   23            Charlotte-Concord-Gastonia, NC-SC MSA   \n",
       "2     Freeman   47           Louisville/Jefferson County, KY-IN MSA   \n",
       "3      Dawson   46           Los Angeles-Long Beach-Anaheim, CA MSA   \n",
       "4      Robles   34           San Francisco-Oakland-Berkeley, CA MSA   \n",
       "\n",
       "     reg_date      plan  churn_date  total_monthly_charge  \n",
       "0  2018-01-15      surf           1                  20.0  \n",
       "1  2018-01-14  ultimate           1                  70.0  \n",
       "2  2018-01-14  ultimate           1                  70.0  \n",
       "3  2018-01-14  ultimate           1                  70.0  \n",
       "4  2018-01-01  ultimate           1                  70.0  "
      ]
     },
     "execution_count": 44,
     "metadata": {},
     "output_type": "execute_result"
    }
   ],
   "source": [
    "final_merged_data.head()"
   ]
  },
  {
   "cell_type": "markdown",
   "metadata": {},
   "source": [
    "[Calculate the monthly revenue from each user (subtract the free package limit from the total number of calls, text messages, and data; multiply the result by the calling plan value; add the monthly charge depending on the calling plan). N.B. This might not be as trivial as just a couple of lines given the plan conditions! So, it's okay to spend some time on it.]"
   ]
  },
  {
   "cell_type": "code",
   "execution_count": null,
   "metadata": {},
   "outputs": [],
   "source": []
  },
  {
   "cell_type": "markdown",
   "metadata": {},
   "source": [
    "## Study user behaviour"
   ]
  },
  {
   "cell_type": "markdown",
   "metadata": {},
   "source": [
    "[Calculate some useful descriptive statistics for the aggregated and merged data, which typically reveal an overall picture captured by the data. Draw useful plots to help the understanding. Given that the main task is to compare the plans and decide on which one is more profitable, the statistics and the plots should be calculated on a per-plan basis.]\n",
    "\n",
    "[There are relevant hints in the comments for Calls but they are not provided for Messages and Internet though the principle of statistical study is the same for them as for Calls.]"
   ]
  },
  {
   "cell_type": "markdown",
   "metadata": {},
   "source": [
    "### Calls"
   ]
  },
  {
   "cell_type": "code",
   "execution_count": 45,
   "metadata": {},
   "outputs": [
    {
     "name": "stderr",
     "output_type": "stream",
     "text": [
      "No handles with labels found to put in legend.\n"
     ]
    },
    {
     "data": {
      "image/png": "[encoded data removed]",
      "text/plain": [
       "<Figure size 720x432 with 1 Axes>"
      ]
     },
     "metadata": {
      "needs_background": "light"
     },
     "output_type": "display_data"
    }
   ],
   "source": [
    "# Compare average duration of calls per each plan per each distinct month. Plot a bar plat to visualize it\n",
    "\n",
    "plt.figure(figsize=(10, 6))\n",
    "sns.barplot(data= final_merged_data, x='month', y='duration')  # Adjust 'plan_name' as appropriate\n",
    "plt.title('Average Call Duration per Plan per Month')\n",
    "plt.xlabel('Month')\n",
    "plt.ylabel('Average Call Duration (minutes)')\n",
    "plt.xticks(rotation=45)\n",
    "plt.legend(title='Plan Name')\n",
    "plt.show()"
   ]
  },
  {
   "cell_type": "code",
   "execution_count": 46,
   "metadata": {},
   "outputs": [
    {
     "name": "stderr",
     "output_type": "stream",
     "text": [
      "No handles with labels found to put in legend.\n"
     ]
    },
    {
     "data": {
      "image/png": "[encoded data removed]",
      "text/plain": [
       "<Figure size 720x432 with 1 Axes>"
      ]
     },
     "metadata": {
      "needs_background": "light"
     },
     "output_type": "display_data"
    }
   ],
   "source": [
    "# Compare the number of minutes users of each plan require each month. Plot a histogram.\n",
    "\n",
    "# Setting up the figure size\n",
    "plt.figure(figsize=(10, 6))\n",
    "\n",
    "\n",
    "# Plotting a histogram for call durations. Seaborn automatically calculates frequency distribution.\n",
    "sns.histplot(data=final_merged_data, hue='plan', x='duration', element='step', stat='density', common_norm=False, kde=True)\n",
    "\n",
    "# Setting up the plot's titles and labels\n",
    "plt.title('Average Call Duration per Plan per Month')\n",
    "plt.xlabel('Average Call Duration (minutes)')\n",
    "plt.ylabel('Density')\n",
    "\n",
    "# Rotating the x-tick labels if necessary\n",
    "plt.xticks(rotation=45)\n",
    "\n",
    "# Adding a legend to explain which histogram corresponds to which plan\n",
    "plt.legend(title='surf')\n",
    "\n",
    "# Displaying the plot\n",
    "plt.show()\n"
   ]
  },
  {
   "cell_type": "markdown",
   "metadata": {},
   "source": [
    "[Calculate the mean and the variable of the call duration to reason on whether users on the different plans have different behaviours for their calls.]"
   ]
  },
  {
   "cell_type": "code",
   "execution_count": 47,
   "metadata": {},
   "outputs": [
    {
     "name": "stdout",
     "output_type": "stream",
     "text": [
      "Mean Call Duration by Plan:\n",
      "user_id\n",
      "1000     124.000000\n",
      "1001     345.600000\n",
      "1002     276.333333\n",
      "1003    1104.000000\n",
      "1004     346.500000\n",
      "           ...     \n",
      "1495     441.250000\n",
      "1496     291.000000\n",
      "1497     300.000000\n",
      "1498     291.909091\n",
      "1499     383.750000\n",
      "Name: duration, Length: 481, dtype: float64\n",
      "\n",
      "Variance of Call Duration by Plan:\n",
      "user_id\n",
      "1000             NaN\n",
      "1001    10205.300000\n",
      "1002    35426.333333\n",
      "1003             NaN\n",
      "1004     7940.571429\n",
      "            ...     \n",
      "1495    18960.916667\n",
      "1496    11166.000000\n",
      "1497             NaN\n",
      "1498     2480.490909\n",
      "1499     6588.250000\n",
      "Name: duration, Length: 481, dtype: float64\n"
     ]
    }
   ],
   "source": [
    "# Calculate the mean and the variance of the monthly call duration\n",
    "mean_call_duration = final_merged_data.groupby('user_id')['duration'].mean()\n",
    "print(\"Mean Call Duration by Plan:\")\n",
    "print(mean_call_duration)\n",
    "\n",
    "# Calculate the variance of call duration per plan\n",
    "variance_call_duration = final_merged_data.groupby('user_id')['duration'].var()\n",
    "print(\"\\nVariance of Call Duration by Plan:\")\n",
    "print(variance_call_duration)\n"
   ]
  },
  {
   "cell_type": "code",
   "execution_count": 48,
   "metadata": {},
   "outputs": [
    {
     "data": {
      "image/png": "[encoded data removed]",
      "text/plain": [
       "<Figure size 720x432 with 1 Axes>"
      ]
     },
     "metadata": {
      "needs_background": "light"
     },
     "output_type": "display_data"
    }
   ],
   "source": [
    "# Plot a boxplot to visualize the distribution of the monthly call duration\n",
    "plt.figure(figsize=(10, 6))\n",
    "sns.boxplot(data=final_merged_data, x='user_id', y='duration')\n",
    "plt.title('Distribution of Monthly Call Duration by Plan')\n",
    "plt.xlabel('Plan Name')\n",
    "plt.ylabel('Call Duration (minutes)')\n",
    "plt.show()\n"
   ]
  },
  {
   "cell_type": "markdown",
   "metadata": {},
   "source": [
    "[Formulate conclusions on how the users behave in terms of calling. Is their behaviour different between the plans?]"
   ]
  },
  {
   "cell_type": "markdown",
   "metadata": {},
   "source": [
    " "
   ]
  },
  {
   "cell_type": "markdown",
   "metadata": {},
   "source": [
    "### Messages"
   ]
  },
  {
   "cell_type": "code",
   "execution_count": 49,
   "metadata": {},
   "outputs": [
    {
     "name": "stdout",
     "output_type": "stream",
     "text": [
      "      user_id  month   mb_used\n",
      "0        1000     12   1901.47\n",
      "1        1001      8   6919.15\n",
      "2        1001      9  13314.82\n",
      "3        1001     10  22330.49\n",
      "4        1001     11  18504.30\n",
      "...       ...    ...       ...\n",
      "2253     1498     12  23137.69\n",
      "2254     1499      9  12984.76\n",
      "2255     1499     10  19492.43\n",
      "2256     1499     11  16813.83\n",
      "2257     1499     12  22059.21\n",
      "\n",
      "[2258 rows x 3 columns]\n"
     ]
    }
   ],
   "source": [
    "# Compare the amount of internet traffic consumed by users per plan\n",
    "internet_per_plan = final_merged_data.groupby(['user_id', 'month'])['mb_used'].mean().reset_index()\n",
    "print(internet_per_plan)"
   ]
  },
  {
   "cell_type": "code",
   "execution_count": 50,
   "metadata": {},
   "outputs": [
    {
     "name": "stdout",
     "output_type": "stream",
     "text": [
      "      user_id  month  duration\n",
      "0        1000     12     124.0\n",
      "1        1001      8     182.0\n",
      "2        1001      9     315.0\n",
      "3        1001     10     393.0\n",
      "4        1001     11     426.0\n",
      "...       ...    ...       ...\n",
      "2253     1498     12     339.0\n",
      "2254     1499      9     346.0\n",
      "2255     1499     10     385.0\n",
      "2256     1499     11     308.0\n",
      "2257     1499     12     496.0\n",
      "\n",
      "[2258 rows x 3 columns]\n"
     ]
    }
   ],
   "source": [
    "# Compare the number of messages users of each plan tend to send each month\n",
    "messages_per_plan = final_merged_data.groupby(['user_id', 'month'])['duration'].mean().reset_index()\n",
    "print(messages_per_plan)"
   ]
  },
  {
   "cell_type": "code",
   "execution_count": 51,
   "metadata": {},
   "outputs": [],
   "source": [
    "#Create dictionary for monthly data usage.\n",
    "user_monthly_data = {}\n",
    "\n",
    "dict_months = {month: 0 for month in range(1, 13)}\n",
    "\n",
    "#For loop to iterate through each user_id.\n",
    "for user in users['user_id']:\n",
    "    \n",
    "    #Save necessary info in temporary dictionaries.\n",
    "    user_info = internet.loc[internet['user_id'] == user]\n",
    "    data_per_month = user_info.groupby(user_info['session_date'].dt.month)['mb_used'].sum().round(2).to_dict()\n",
    "    \n",
    "    #Ensure all months are present, and fill months with 0 mb used with 0.\n",
    "    for key in dict_months:\n",
    "        if key not in data_per_month:\n",
    "            data_per_month[key] = 0\n",
    "        else:\n",
    "            pass\n",
    "\n",
    "    #Add user's monthly data usage to user_monthly_data dictinary.\n",
    "    if user not in user_monthly_data:\n",
    "        user_monthly_data[user] = data_per_month\n",
    "    else:\n",
    "        pass"
   ]
  },
  {
   "cell_type": "code",
   "execution_count": 52,
   "metadata": {},
   "outputs": [],
   "source": [
    "#Create empty dictionaries.\n",
    "user_monthly_calls = {}\n",
    "user_monthly_minutes = {}\n",
    "\n",
    "#For loop to iterate through each user_id.\n",
    "for user in users['user_id']:\n",
    "    \n",
    "    #Save necessary info in temporary dictionaries.\n",
    "    user_info = calls.loc[calls['user_id'] == user]\n",
    "    calls_per_month = user_info.groupby(user_info['call_date'].dt.month)['call_date'].count().to_dict()\n",
    "    minutes_per_month = user_info.groupby(user_info['call_date'].dt.month)['duration'].sum().to_dict()\n",
    "    \n",
    "    #Ensure all months are present, and fill months with 0 calls/minutes with 0.\n",
    "    for key in dict_months:\n",
    "        if key not in calls_per_month:\n",
    "            calls_per_month[key] = 0\n",
    "            minutes_per_month[key] = 0\n",
    "        else:\n",
    "            pass\n",
    "    \n",
    "    #Add user's monthly calls to user_monthly_calls dictinary.\n",
    "    if user not in user_monthly_calls:\n",
    "        user_monthly_calls[user] = calls_per_month\n",
    "    else:\n",
    "        pass\n",
    "    \n",
    "    #Add user's monthly minutes to user_monthly_calls dictinary.\n",
    "    if user not in user_monthly_minutes:\n",
    "        user_monthly_minutes[user] = minutes_per_month\n",
    "    else:\n",
    "        pass"
   ]
  },
  {
   "cell_type": "code",
   "execution_count": 53,
   "metadata": {},
   "outputs": [],
   "source": [
    "#Create dictionary for monthly texts.\n",
    "user_monthly_texts = {}\n",
    "\n",
    "#For loop to iterate through each user_id.\n",
    "for user in users['user_id']:\n",
    "    \n",
    "    #Save necessary info in temporary dictionaries.\n",
    "    user_info = messages.loc[messages['user_id'] == user]\n",
    "    messages_per_month = user_info.groupby(user_info['message_date'].dt.month)['user_id'].count().to_dict()\n",
    "\n",
    "    #Ensure all months are present, and fill months with 0 texts with 0.\n",
    "    for key in dict_months:\n",
    "        if key not in messages_per_month:\n",
    "            messages_per_month[key] = 0\n",
    "        else:\n",
    "            pass\n",
    "    \n",
    "    #Add user's monthly texts to user_monthly_texts dictinary.\n",
    "    if user not in user_monthly_texts:\n",
    "        user_monthly_texts[user] = messages_per_month\n",
    "    else:\n",
    "        pass"
   ]
  },
  {
   "cell_type": "code",
   "execution_count": 54,
   "metadata": {},
   "outputs": [],
   "source": [
    "import math as mt\n",
    "\n",
    "#Create reference dictionary.\n",
    "dict_months = {1: \"January\", 2: \"February\", 3 : \"March\", 4 : \"April\", 5 : \"May\", 6 : \"June\", 7 : \"July\", 8 : \"August\", 9 : \"September\", 10 : \"October\", 11 : \"November\", 12 : \"December\"}\n",
    "\n",
    "\n",
    "#Create empty dictionary for monthly revenue per user.\n",
    "user_monthly_revenue = {}\n",
    "\n",
    "#Create list of IDs for users with churn date listed.\n",
    "churn_users = users[users['churn_date'] == 0]\n",
    "churn_users_ids = churn_users['user_id'].to_list()\n",
    "\n",
    "#Iterate through each user ID with for loop.\n",
    "for user in users['user_id']:\n",
    "    \n",
    "    #Obtain DataFrame slice of user, and select their plan.\n",
    "    user_info = users.loc[users['user_id'] == user]\n",
    "    plan = user_info['plan'].values[0]\n",
    "    reg_month = pd.to_datetime(user_info['reg_date']).dt.month.values[0]\n",
    "    user_revenue_dict = {}\n",
    "    \n",
    "    #Loop through months to calculate monthly revenue.\n",
    "    for month in dict_months:\n",
    "        \n",
    "        #Check if the month we're calculating is before the user's contract started.\n",
    "        if month < reg_month:\n",
    "            user_revenue_dict[month] = 0\n",
    "        else: \n",
    "        \n",
    "            #Obtain monthly usages for specific user. Round data up to nearest gigabyte.\n",
    "            data = mt.ceil(user_monthly_data[user][month] / 1000)\n",
    "            minutes = user_monthly_minutes[user][month]\n",
    "            texts = user_monthly_texts[user][month]\n",
    "            \n",
    "            #If if/else to define what happens for users of each plan.\n",
    "            if plan == 'surf':\n",
    "                plan_num = 0\n",
    "            else:\n",
    "                plan_num = 1\n",
    "        \n",
    "            #Calculate how much chargeable texts, calls, and data was used.\n",
    "            if texts > plans['messages_included'].values[plan_num]:\n",
    "                chargeable_texts = texts - plans['messages_included'].values[plan_num]\n",
    "            else:\n",
    "                chargeable_texts = 0\n",
    "            \n",
    "            if minutes > plans['minutes_included'].values[plan_num]:\n",
    "                chargeable_minutes = minutes - plans['minutes_included'].values[plan_num]\n",
    "            else:\n",
    "                chargeable_minutes = 0\n",
    "            \n",
    "            if data > (plans['mb_per_month_included'].values[plan_num] / 1000):\n",
    "                chargeable_data = data - (plans['mb_per_month_included'].values[plan_num] / 1000)\n",
    "            else:\n",
    "                chargeable_data = 0\n",
    "        \n",
    "            #Calculate extra costs and total monthly revenue.\n",
    "            plan_cost = plans['usd_monthly_pay'].values[plan_num]\n",
    "            text_cost = chargeable_texts * plans['usd_per_message'].values[plan_num]\n",
    "            minutes_cost = chargeable_minutes * plans['usd_per_minute'].values[plan_num]\n",
    "            data_cost = chargeable_data * plans['usd_per_gb'].values[plan_num]\n",
    "            user_month_revenue = round(plan_cost + text_cost + minutes_cost + data_cost, 2)\n",
    "            \n",
    "            #Add month's revenue to dictionary if churn date not listed.\n",
    "            if user not in churn_users_ids:\n",
    "                user_revenue_dict[month] = user_month_revenue\n",
    "            else:\n",
    "                #Get month for churn date.\n",
    "                user_churn_date = user_info['churn_date'].values[0]\n",
    "                user_churn_date = pd.to_datetime(user_churn_date)\n",
    "            \n",
    "                #If churn date listed, charge for months contract was running.\n",
    "                if month <= user_churn_date.month:\n",
    "                    user_revenue_dict[month] = user_month_revenue\n",
    "                #For months after churn date, submit 0 as revenue.\n",
    "                else: \n",
    "                    user_revenue_dict[month] = 0\n",
    "                    \n",
    "    #Add user's monthly revenue dictionary to user_monthly_revenue dictionary.\n",
    "    user_monthly_revenue[user] = user_revenue_dict"
   ]
  },
  {
   "cell_type": "code",
   "execution_count": null,
   "metadata": {},
   "outputs": [],
   "source": []
  },
  {
   "cell_type": "code",
   "execution_count": null,
   "metadata": {},
   "outputs": [],
   "source": []
  },
  {
   "cell_type": "code",
   "execution_count": null,
   "metadata": {},
   "outputs": [],
   "source": []
  },
  {
   "cell_type": "code",
   "execution_count": null,
   "metadata": {},
   "outputs": [],
   "source": []
  },
  {
   "cell_type": "code",
   "execution_count": null,
   "metadata": {},
   "outputs": [],
   "source": [
    "\n",
    "        "
   ]
  },
  {
   "cell_type": "code",
   "execution_count": null,
   "metadata": {},
   "outputs": [],
   "source": []
  },
  {
   "cell_type": "code",
   "execution_count": null,
   "metadata": {},
   "outputs": [],
   "source": []
  },
  {
   "cell_type": "code",
   "execution_count": null,
   "metadata": {},
   "outputs": [],
   "source": []
  },
  {
   "cell_type": "code",
   "execution_count": null,
   "metadata": {},
   "outputs": [],
   "source": []
  },
  {
   "cell_type": "markdown",
   "metadata": {},
   "source": [
    "There seems to be a correlation between longer duration calls and holidays. December is the busiest, and the winter months are the least busy."
   ]
  },
  {
   "cell_type": "markdown",
   "metadata": {},
   "source": [
    "[Formulate conclusions on how the users behave in terms of messaging. Is their behaviour different between the plans?]"
   ]
  },
  {
   "cell_type": "markdown",
   "metadata": {},
   "source": [
    " "
   ]
  },
  {
   "cell_type": "markdown",
   "metadata": {},
   "source": [
    "### Internet"
   ]
  },
  {
   "cell_type": "markdown",
   "metadata": {},
   "source": [
    "There seems to be a correlation between colder months and higher internet usage."
   ]
  },
  {
   "cell_type": "code",
   "execution_count": null,
   "metadata": {},
   "outputs": [],
   "source": []
  },
  {
   "cell_type": "code",
   "execution_count": null,
   "metadata": {},
   "outputs": [],
   "source": []
  },
  {
   "cell_type": "markdown",
   "metadata": {},
   "source": [
    "[Formulate conclusions on how the users tend to consume the internet traffic? Is their behaviour different between the plans?]"
   ]
  },
  {
   "cell_type": "markdown",
   "metadata": {},
   "source": [
    " "
   ]
  },
  {
   "cell_type": "markdown",
   "metadata": {},
   "source": [
    "## Revenue"
   ]
  },
  {
   "cell_type": "markdown",
   "metadata": {},
   "source": [
    "[Likewise you have studied the user behaviour, statistically describe the revenue between the plans.]"
   ]
  },
  {
   "cell_type": "markdown",
   "metadata": {},
   "source": []
  },
  {
   "cell_type": "markdown",
   "metadata": {},
   "source": [
    "There seems to be more revenue from the ultimate plan, upon examining the evidence."
   ]
  },
  {
   "cell_type": "code",
   "execution_count": null,
   "metadata": {},
   "outputs": [],
   "source": []
  },
  {
   "cell_type": "markdown",
   "metadata": {},
   "source": [
    "[Formulate conclusions about how the revenue differs between the plans.]"
   ]
  },
  {
   "cell_type": "markdown",
   "metadata": {},
   "source": [
    " "
   ]
  },
  {
   "cell_type": "markdown",
   "metadata": {},
   "source": [
    "## Test statistical hypotheses"
   ]
  },
  {
   "cell_type": "markdown",
   "metadata": {},
   "source": [
    "[Test the hypothesis that the average revenue from users of the Ultimate and Surf calling plans differs.]"
   ]
  },
  {
   "cell_type": "markdown",
   "metadata": {},
   "source": [
    "[Formulate the null and the alternative hypotheses, choose the statistical test, decide on the alpha value.]"
   ]
  },
  {
   "cell_type": "code",
   "execution_count": null,
   "metadata": {},
   "outputs": [],
   "source": []
  },
  {
   "cell_type": "code",
   "execution_count": 55,
   "metadata": {},
   "outputs": [
    {
     "name": "stdout",
     "output_type": "stream",
     "text": [
      "P-value: 1.0\n",
      "Fail to reject the null hypothesis: There is no significant difference between the plans.\n"
     ]
    }
   ],
   "source": [
    "revenue_per_user = {user:sum(user_monthly_revenue[user].values()) for user in user_monthly_revenue}\n",
    "\n",
    "# Then, prepare your samples based on plan names. This step requires having a way to map user IDs to plan names.\n",
    "# Let's assume you have a dictionary `user_plans` mapping user IDs to plan names for simplicity.\n",
    "sample_1 = [revenue_per_user[user] for user in revenue_per_user if (users[users['user_id'] == user]['plan'].values[0]) == 'ultimate']\n",
    "sample_2 = sample_1 = [revenue_per_user[user] for user in revenue_per_user if (users[users['user_id'] == user]['plan'].values[0]) == 'surf']\n",
    "\n",
    "# Now you can perform the t-test with these samples\n",
    "pvalue = stats.ttest_ind(sample_1, sample_2, nan_policy=\"omit\").pvalue\n",
    "print(f\"P-value: {pvalue}\")\n",
    "\n",
    "alpha = 0.05  # Corrected alpha value\n",
    "\n",
    "if pvalue < alpha:\n",
    "    print(\"Reject the null hypothesis: There is a significant difference between the plans.\")\n",
    "else:\n",
    "    print(\"Fail to reject the null hypothesis: There is no significant difference between the plans.\")"
   ]
  },
  {
   "cell_type": "code",
   "execution_count": null,
   "metadata": {},
   "outputs": [],
   "source": []
  },
  {
   "cell_type": "markdown",
   "metadata": {},
   "source": [
    "[Test the hypothesis that the average revenue from users in the NY-NJ area is different from that of the users from the other regions.]"
   ]
  },
  {
   "cell_type": "markdown",
   "metadata": {},
   "source": [
    "[Formulate the null and the alternative hypotheses, choose the statistical test, decide on the alpha value.]"
   ]
  },
  {
   "cell_type": "code",
   "execution_count": 56,
   "metadata": {},
   "outputs": [
    {
     "name": "stdout",
     "output_type": "stream",
     "text": [
      "T-statistic: -2.2937119783861224, P-value: 0.022206928957103963\n",
      "Reject the null hypothesis: There is a significant difference in average revenue between the groups.\n"
     ]
    }
   ],
   "source": [
    "# Test the hypotheses\n",
    "revenue = final_merged_data[\"total_monthly_charge\"]\n",
    "\n",
    "sample_nynj = revenue[final_merged_data['city'].str.contains(\"NY-NJ\")]\n",
    "\n",
    "# Sample for users from other regions\n",
    "sample_others = revenue[final_merged_data['city'] != 'NY-NJ']\n",
    "\n",
    "# Perform the t-test\n",
    "t_stat, pvalue = stats.ttest_ind(sample_nynj, sample_others, equal_var=False) # Assuming unequal variances\n",
    "print(f\"T-statistic: {t_stat}, P-value: {pvalue}\")\n",
    "\n",
    "# Compare the p-value with alpha\n",
    "alpha = 0.05\n",
    "if pvalue < alpha:\n",
    "    print(\"Reject the null hypothesis: There is a significant difference in average revenue between the groups.\")\n",
    "else:\n",
    "    print(\"Fail to reject the null hypothesis: There is no significant difference in average revenue between the groups.\")"
   ]
  },
  {
   "cell_type": "code",
   "execution_count": 57,
   "metadata": {},
   "outputs": [
    {
     "name": "stdout",
     "output_type": "stream",
     "text": [
      "      month  user_id  duration  messages   mb_used  gb_used  first_name  \\\n",
      "0         1     1042     114.0       NaN   1854.93      2.0  Clementina   \n",
      "1         1     1077     290.0      37.0  10635.64     11.0        Chau   \n",
      "2         1     1185     181.0       NaN   6812.77      7.0       Loria   \n",
      "3         1     1196     287.0      23.0   8908.61      9.0        Noel   \n",
      "4         1     1214      16.0       2.0   1315.35      2.0        Emil   \n",
      "...     ...      ...       ...       ...       ...      ...         ...   \n",
      "2253     12     1495     492.0       NaN  24097.40     24.0       Fidel   \n",
      "2254     12     1496     294.0      11.0  16438.99     17.0       Ariel   \n",
      "2255     12     1497     300.0      50.0  11106.55     11.0       Donte   \n",
      "2256     12     1498     339.0       NaN  23137.69     23.0        Scot   \n",
      "2257     12     1499     496.0       NaN  22059.21     22.0       Shena   \n",
      "\n",
      "       last_name  age                                             city  \\\n",
      "0     Mclaughlin   40  Philadelphia-Camden-Wilmington, PA-NJ-DE-MD MSA   \n",
      "1        Webster   23            Charlotte-Concord-Gastonia, NC-SC MSA   \n",
      "2        Freeman   47           Louisville/Jefferson County, KY-IN MSA   \n",
      "3         Dawson   46           Los Angeles-Long Beach-Anaheim, CA MSA   \n",
      "4         Robles   34           San Francisco-Oakland-Berkeley, CA MSA   \n",
      "...          ...  ...                                              ...   \n",
      "2253      Sharpe   67        New York-Newark-Jersey City, NY-NJ-PA MSA   \n",
      "2254    Shepherd   49                     New Orleans-Metairie, LA MSA   \n",
      "2255     Barrera   49           Los Angeles-Long Beach-Anaheim, CA MSA   \n",
      "2256  Williamson   51        New York-Newark-Jersey City, NY-NJ-PA MSA   \n",
      "2257     Dickson   37                Orlando-Kissimmee-Sanford, FL MSA   \n",
      "\n",
      "        reg_date      plan  churn_date  total_monthly_charge  \n",
      "0     2018-01-15      surf           1             20.000000  \n",
      "1     2018-01-14  ultimate           1             70.000000  \n",
      "2     2018-01-14  ultimate           1             70.000000  \n",
      "3     2018-01-14  ultimate           1             70.000000  \n",
      "4     2018-01-01  ultimate           1             70.000000  \n",
      "...          ...       ...         ...                   ...  \n",
      "2253  2018-09-04      surf           1            105.326172  \n",
      "2254  2018-02-20      surf           1             30.537012  \n",
      "2255  2018-12-10  ultimate           1             70.000000  \n",
      "2256  2018-02-04      surf           1             95.954004  \n",
      "2257  2018-05-06      surf           1             85.421973  \n",
      "\n",
      "[2258 rows x 14 columns]\n"
     ]
    }
   ],
   "source": [
    "print(final_merged_data)"
   ]
  },
  {
   "cell_type": "markdown",
   "metadata": {},
   "source": [
    "## General conclusion\n",
    "\n",
    "[List your important conclusions in this final section, make sure they cover all those important decisions (assumptions) that you've made and that led you to the way you processed and analyzed the data.]\n"
   ]
  },
  {
   "cell_type": "markdown",
   "metadata": {},
   "source": [
    "We failed to reject the null hypothesis after performing both t-tests. Therefore, we can conclude that there appears to be no difference in the plans 'surf' vs 'ultimate' or between areas in the NY-NJ area compared to other areas."
   ]
  },
  {
   "cell_type": "markdown",
   "metadata": {},
   "source": [
    " "
   ]
  }
 ],
 "metadata": {
  "ExecuteTimeLog": [
   {
    "duration": 828,
    "start_time": "2021-11-16T09:21:11.304Z"
   },
   {
    "duration": 893,
    "start_time": "2021-11-16T09:21:17.728Z"
   },
   {
    "duration": 1150,
    "start_time": "2021-11-16T09:21:29.568Z"
   },
   {
    "duration": 3,
    "start_time": "2021-11-16T09:24:14.495Z"
   },
   {
    "duration": 120,
    "start_time": "2021-11-16T09:24:46.630Z"
   },
   {
    "duration": 3,
    "start_time": "2021-11-16T09:28:27.882Z"
   },
   {
    "duration": 4,
    "start_time": "2021-11-16T09:29:54.281Z"
   },
   {
    "duration": 3,
    "start_time": "2021-11-16T09:30:45.936Z"
   },
   {
    "duration": 4,
    "start_time": "2021-11-16T09:31:06.300Z"
   },
   {
    "duration": 113,
    "start_time": "2021-11-16T09:31:37.208Z"
   },
   {
    "duration": 143,
    "start_time": "2021-11-16T09:31:48.656Z"
   },
   {
    "duration": 98,
    "start_time": "2021-11-16T09:31:55.678Z"
   },
   {
    "duration": 3,
    "start_time": "2021-11-16T09:32:08.535Z"
   },
   {
    "duration": 111,
    "start_time": "2021-11-16T09:32:10.120Z"
   },
   {
    "duration": 3,
    "start_time": "2021-11-16T09:32:15.732Z"
   },
   {
    "duration": 4,
    "start_time": "2021-11-16T09:32:29.423Z"
   },
   {
    "duration": 3,
    "start_time": "2021-11-16T10:03:03.074Z"
   },
   {
    "duration": 3,
    "start_time": "2021-11-16T10:10:01.288Z"
   },
   {
    "duration": 3,
    "start_time": "2021-11-16T10:10:46.923Z"
   },
   {
    "duration": 121,
    "start_time": "2021-11-16T10:37:46.494Z"
   },
   {
    "duration": 125,
    "start_time": "2021-11-16T10:38:20.632Z"
   },
   {
    "duration": 112,
    "start_time": "2021-11-16T10:46:53.001Z"
   },
   {
    "duration": 110,
    "start_time": "2021-11-16T10:48:25.775Z"
   },
   {
    "duration": 3,
    "start_time": "2021-11-16T10:50:18.720Z"
   },
   {
    "duration": 4,
    "start_time": "2021-11-16T10:50:37.649Z"
   },
   {
    "duration": 2,
    "start_time": "2021-11-16T10:50:51.884Z"
   },
   {
    "duration": 3,
    "start_time": "2021-11-16T10:51:56.237Z"
   },
   {
    "duration": 101,
    "start_time": "2021-11-16T10:53:13.791Z"
   },
   {
    "duration": 3,
    "start_time": "2021-11-16T10:55:59.186Z"
   },
   {
    "duration": 3,
    "start_time": "2021-11-16T10:56:10.751Z"
   },
   {
    "duration": 3,
    "start_time": "2021-11-16T10:56:49.038Z"
   },
   {
    "duration": 3,
    "start_time": "2021-11-16T10:56:49.174Z"
   },
   {
    "duration": 4,
    "start_time": "2021-11-16T10:56:49.414Z"
   },
   {
    "duration": 3,
    "start_time": "2021-11-16T10:56:49.680Z"
   },
   {
    "duration": 3,
    "start_time": "2021-11-16T10:56:50.370Z"
   },
   {
    "duration": 114,
    "start_time": "2021-11-16T10:59:34.518Z"
   },
   {
    "duration": 3,
    "start_time": "2021-11-16T11:01:41.201Z"
   },
   {
    "duration": 116,
    "start_time": "2021-11-16T11:01:48.754Z"
   },
   {
    "duration": 3,
    "start_time": "2021-11-16T11:02:16.685Z"
   },
   {
    "duration": 3,
    "start_time": "2021-11-16T11:02:19.479Z"
   },
   {
    "duration": 3,
    "start_time": "2021-11-16T11:02:47.067Z"
   },
   {
    "duration": 3,
    "start_time": "2021-11-16T11:02:49.353Z"
   },
   {
    "duration": 3,
    "start_time": "2021-11-16T11:03:07.835Z"
   },
   {
    "duration": 3,
    "start_time": "2021-11-16T11:03:07.953Z"
   },
   {
    "duration": 112,
    "start_time": "2021-11-16T11:07:52.072Z"
   },
   {
    "duration": 187,
    "start_time": "2021-11-16T11:09:23.468Z"
   },
   {
    "duration": 4,
    "start_time": "2021-11-16T11:10:01.455Z"
   },
   {
    "duration": 3,
    "start_time": "2021-11-16T11:10:05.069Z"
   },
   {
    "duration": 4,
    "start_time": "2021-11-16T11:10:13.376Z"
   },
   {
    "duration": 3,
    "start_time": "2021-11-16T11:10:14.434Z"
   },
   {
    "duration": 3,
    "start_time": "2021-11-16T11:10:22.853Z"
   },
   {
    "duration": 4,
    "start_time": "2021-11-16T11:27:29.279Z"
   },
   {
    "duration": 4,
    "start_time": "2021-11-16T11:29:08.919Z"
   },
   {
    "duration": 118,
    "start_time": "2021-11-16T11:29:46.703Z"
   },
   {
    "duration": 437,
    "start_time": "2021-11-16T11:36:02.181Z"
   },
   {
    "duration": 157,
    "start_time": "2021-11-16T11:36:14.388Z"
   },
   {
    "duration": 207,
    "start_time": "2021-11-16T11:47:15.898Z"
   },
   {
    "duration": 3,
    "start_time": "2021-11-16T11:53:52.092Z"
   },
   {
    "duration": 3,
    "start_time": "2021-11-16T11:53:52.236Z"
   },
   {
    "duration": 3,
    "start_time": "2021-11-16T11:59:12.005Z"
   },
   {
    "duration": 112,
    "start_time": "2021-11-16T12:00:33.446Z"
   },
   {
    "duration": 3,
    "start_time": "2021-11-16T12:02:14.453Z"
   },
   {
    "duration": 3,
    "start_time": "2021-11-16T12:02:39.512Z"
   },
   {
    "duration": 106,
    "start_time": "2021-11-16T12:03:03.460Z"
   },
   {
    "duration": 3,
    "start_time": "2021-11-17T20:37:21.139Z"
   },
   {
    "duration": 3,
    "start_time": "2021-11-17T20:37:22.229Z"
   },
   {
    "duration": 3,
    "start_time": "2021-11-17T20:38:38.806Z"
   },
   {
    "duration": 3,
    "start_time": "2021-11-17T20:38:41.958Z"
   },
   {
    "duration": 3,
    "start_time": "2021-11-17T20:43:46.551Z"
   },
   {
    "duration": 4,
    "start_time": "2021-11-17T20:58:21.835Z"
   },
   {
    "duration": 3,
    "start_time": "2021-11-17T20:59:21.872Z"
   },
   {
    "duration": 4,
    "start_time": "2021-11-17T20:59:45.352Z"
   },
   {
    "duration": 4,
    "start_time": "2021-11-17T20:59:49.646Z"
   },
   {
    "duration": 159,
    "start_time": "2021-11-17T21:02:26.949Z"
   },
   {
    "duration": 3,
    "start_time": "2021-11-17T21:03:53.461Z"
   },
   {
    "duration": 3,
    "start_time": "2021-11-17T21:03:53.694Z"
   },
   {
    "duration": 3,
    "start_time": "2021-11-17T21:05:28.145Z"
   },
   {
    "duration": 116,
    "start_time": "2021-11-17T21:05:57.787Z"
   },
   {
    "duration": 3,
    "start_time": "2021-11-17T21:06:37.993Z"
   },
   {
    "duration": 3,
    "start_time": "2021-11-17T21:06:38.261Z"
   },
   {
    "duration": 3,
    "start_time": "2021-11-17T21:11:54.358Z"
   },
   {
    "duration": 3,
    "start_time": "2021-11-17T21:12:43.846Z"
   },
   {
    "duration": 4,
    "start_time": "2021-11-17T21:13:08.773Z"
   },
   {
    "duration": 3,
    "start_time": "2021-11-17T21:14:44.441Z"
   },
   {
    "duration": 3,
    "start_time": "2021-11-17T21:15:42.059Z"
   },
   {
    "duration": 4,
    "start_time": "2021-11-17T21:15:51.995Z"
   },
   {
    "duration": 3,
    "start_time": "2021-11-17T21:15:53.923Z"
   },
   {
    "duration": 3,
    "start_time": "2021-11-17T21:15:55.282Z"
   },
   {
    "duration": 3,
    "start_time": "2021-11-17T21:16:28.492Z"
   },
   {
    "duration": 3,
    "start_time": "2021-11-17T21:16:32.603Z"
   },
   {
    "duration": 3,
    "start_time": "2021-11-17T21:17:06.941Z"
   },
   {
    "duration": 98,
    "start_time": "2021-11-17T21:18:05.733Z"
   },
   {
    "duration": 4,
    "start_time": "2021-11-17T21:21:35.255Z"
   },
   {
    "duration": 3,
    "start_time": "2021-11-17T21:21:37.804Z"
   },
   {
    "duration": 4,
    "start_time": "2021-11-17T21:23:06.071Z"
   },
   {
    "duration": 3,
    "start_time": "2021-11-17T21:23:24.799Z"
   },
   {
    "duration": 3,
    "start_time": "2021-11-17T21:23:32.591Z"
   },
   {
    "duration": 98,
    "start_time": "2021-11-17T21:28:31.559Z"
   },
   {
    "duration": 3,
    "start_time": "2021-11-17T21:28:45.448Z"
   },
   {
    "duration": 3,
    "start_time": "2021-11-17T21:29:17.303Z"
   },
   {
    "duration": 3,
    "start_time": "2021-11-17T21:29:29.617Z"
   },
   {
    "duration": 3,
    "start_time": "2021-11-17T21:29:32.681Z"
   },
   {
    "duration": 3,
    "start_time": "2021-11-17T21:36:11.474Z"
   },
   {
    "duration": 3,
    "start_time": "2021-11-17T21:36:14.791Z"
   },
   {
    "duration": 3,
    "start_time": "2021-11-17T21:36:53.943Z"
   },
   {
    "duration": 3,
    "start_time": "2021-11-17T21:36:56.165Z"
   },
   {
    "duration": 4,
    "start_time": "2021-11-17T21:37:16.590Z"
   },
   {
    "duration": 3,
    "start_time": "2021-11-17T21:37:22.702Z"
   },
   {
    "duration": 4,
    "start_time": "2021-11-17T21:38:03.479Z"
   },
   {
    "duration": 3,
    "start_time": "2021-11-17T21:38:08.601Z"
   },
   {
    "duration": 3,
    "start_time": "2021-11-17T21:38:12.928Z"
   },
   {
    "duration": 3,
    "start_time": "2021-11-17T21:38:48.896Z"
   },
   {
    "duration": 2,
    "start_time": "2021-11-17T21:38:49.171Z"
   },
   {
    "duration": 4,
    "start_time": "2021-11-17T21:39:57.889Z"
   },
   {
    "duration": 3,
    "start_time": "2021-11-17T21:39:58.057Z"
   },
   {
    "duration": 3,
    "start_time": "2021-11-17T21:41:20.108Z"
   },
   {
    "duration": 3,
    "start_time": "2021-11-17T21:41:20.629Z"
   },
   {
    "duration": 3,
    "start_time": "2021-11-17T21:42:49.136Z"
   },
   {
    "duration": 3,
    "start_time": "2021-11-17T21:43:15.137Z"
   },
   {
    "duration": 4,
    "start_time": "2021-11-17T21:43:16.766Z"
   },
   {
    "duration": 4,
    "start_time": "2021-11-17T21:43:31.711Z"
   },
   {
    "duration": 3,
    "start_time": "2021-11-17T21:43:36.312Z"
   },
   {
    "duration": 4,
    "start_time": "2021-11-17T21:45:08.825Z"
   },
   {
    "duration": 4,
    "start_time": "2021-11-17T21:45:10.119Z"
   },
   {
    "duration": 4,
    "start_time": "2021-11-17T21:45:13.748Z"
   },
   {
    "duration": 3,
    "start_time": "2021-11-17T21:45:22.219Z"
   },
   {
    "duration": 3,
    "start_time": "2021-11-17T21:45:33.412Z"
   },
   {
    "duration": 2,
    "start_time": "2021-11-17T21:46:01.885Z"
   },
   {
    "duration": 3,
    "start_time": "2021-11-17T21:46:03.628Z"
   },
   {
    "duration": 107,
    "start_time": "2021-11-17T21:47:32.512Z"
   },
   {
    "duration": 103,
    "start_time": "2021-11-17T21:50:36.243Z"
   },
   {
    "duration": 3,
    "start_time": "2021-11-18T06:28:31.440Z"
   },
   {
    "duration": 3,
    "start_time": "2021-11-18T06:29:00.168Z"
   },
   {
    "duration": 3,
    "start_time": "2021-11-18T06:31:27.008Z"
   },
   {
    "duration": 2,
    "start_time": "2021-11-18T06:35:34.288Z"
   },
   {
    "duration": 2,
    "start_time": "2021-11-18T06:38:04.527Z"
   }
  ],
  "kernelspec": {
   "display_name": "Python 3 (ipykernel)",
   "language": "python",
   "name": "python3"
  },
  "language_info": {
   "codemirror_mode": {
    "name": "ipython",
    "version": 3
   },
   "file_extension": ".py",
   "mimetype": "text/x-python",
   "name": "python",
   "nbconvert_exporter": "python",
   "pygments_lexer": "ipython3",
   "version": "3.9.19"
  },
  "toc": {
   "base_numbering": 1,
   "nav_menu": {},
   "number_sections": true,
   "sideBar": true,
   "skip_h1_title": false,
   "title_cell": "Table of Contents",
   "title_sidebar": "Contents",
   "toc_cell": false,
   "toc_position": {
    "height": "calc(100% - 180px)",
    "left": "10px",
    "top": "150px",
    "width": "358.391px"
   },
   "toc_section_display": true,
   "toc_window_display": true
  }
 },
 "nbformat": 4,
 "nbformat_minor": 2
}
